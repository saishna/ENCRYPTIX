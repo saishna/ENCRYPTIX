{
 "cells": [
  {
   "cell_type": "markdown",
   "metadata": {
    "id": "umEx0shUKN-z"
   },
   "source": [
    "Import Libraries and DataSet"
   ]
  },
  {
   "cell_type": "code",
   "execution_count": 2,
   "metadata": {
    "colab": {
     "base_uri": "https://localhost:8080/"
    },
    "id": "AcApgfnfavo6",
    "outputId": "407465d8-59e1-4125-ac5d-1553d90e0578"
   },
   "outputs": [
    {
     "ename": "ModuleNotFoundError",
     "evalue": "No module named 'pandas'",
     "output_type": "error",
     "traceback": [
      "\u001b[1;31m---------------------------------------------------------------------------\u001b[0m",
      "\u001b[1;31mModuleNotFoundError\u001b[0m                       Traceback (most recent call last)",
      "Cell \u001b[1;32mIn[2], line 1\u001b[0m\n\u001b[1;32m----> 1\u001b[0m \u001b[38;5;28;01mimport\u001b[39;00m \u001b[38;5;21;01mpandas\u001b[39;00m \u001b[38;5;28;01mas\u001b[39;00m \u001b[38;5;21;01mpd\u001b[39;00m\n\u001b[0;32m      2\u001b[0m \u001b[38;5;28;01mimport\u001b[39;00m \u001b[38;5;21;01mseaborn\u001b[39;00m \u001b[38;5;28;01mas\u001b[39;00m \u001b[38;5;21;01msns\u001b[39;00m\n\u001b[0;32m      3\u001b[0m \u001b[38;5;28;01mimport\u001b[39;00m \u001b[38;5;21;01mnumpy\u001b[39;00m \u001b[38;5;28;01mas\u001b[39;00m \u001b[38;5;21;01mnp\u001b[39;00m\n",
      "\u001b[1;31mModuleNotFoundError\u001b[0m: No module named 'pandas'"
     ]
    }
   ],
   "source": [
    "import pandas as pd\n",
    "import seaborn as sns\n",
    "import numpy as np\n",
    "import matplotlib.pyplot as plt\n",
    "from sklearn.linear_model import LogisticRegression\n",
    "from sklearn.naive_bayes import GaussianNB, MultinomialNB, BernoulliNB\n",
    "from sklearn.svm import LinearSVC\n",
    "import re\n",
    "import string\n",
    "import nltk\n",
    "from nltk.corpus import stopwords\n",
    "from sklearn.feature_extraction.text import TfidfVectorizer\n",
    "from imblearn.over_sampling import RandomOverSampler\n",
    "from sklearn.preprocessing import LabelEncoder\n",
    "from sklearn.metrics import classification_report, accuracy_score\n",
    "import pandas as pd\n",
    "\n",
    "# Mount Google Drive\n",
    "from google.colab import drive\n",
    "drive.mount('/content/drive')\n",
    "\n",
    "# Load the datasets\n",
    "df_train_copy = pd.read_table('/content/drive/MyDrive/Genre Classification Dataset/train_data.txt', sep=\":::\", names=['srno', 'movie_name', 'genre', 'plot'])\n",
    "df_sol = pd.read_table('/content/drive/MyDrive/Genre Classification Dataset/test_data_solution.txt', sep=\":::\", names=['srno', 'movie_name', 'genre', 'plot'])\n",
    "df_test_half = pd.read_table('/content/drive/MyDrive/Genre Classification Dataset/test_data.txt', sep=\":::\", names=['srno', 'movie_name', 'plot'])\n",
    "\n",
    "# Merge test data with the solution to get the genre\n",
    "df_test = pd.merge(df_test_half, df_sol[['movie_name', 'genre']], on='movie_name', how='left')\n",
    "\n",
    "# Select the first 54200 rows from the training dataset\n",
    "df_train = df_train_copy.iloc[:54200].copy()\n",
    "\n",
    "# Display the first row of the training dataset\n",
    "print(df_train.head(1))\n",
    "\n",
    "# Display the first row of the test dataset\n",
    "print(df_test.head(1))\n",
    "\n",
    "# Display the first row of the solution dataset\n",
    "print(df_sol.head(1))\n",
    "\n",
    "# Display the shapes of the datasets\n",
    "print(df_train.shape, df_test.shape, df_sol.shape)\n",
    "\n",
    "# Display the information about the training dataset\n",
    "print(df_train.info())\n",
    "\n",
    "# Display the summary statistics of the training dataset\n",
    "print(df_train.describe())\n"
   ]
  },
  {
   "cell_type": "code",
   "execution_count": 2,
   "metadata": {
    "id": "2Mk7Njtpax6W"
   },
   "outputs": [],
   "source": [
    "pd.set_option('display.max_colwidth', None)"
   ]
  },
  {
   "cell_type": "code",
   "execution_count": null,
   "metadata": {},
   "outputs": [],
   "source": []
  },
  {
   "cell_type": "code",
   "execution_count": null,
   "metadata": {},
   "outputs": [],
   "source": []
  },
  {
   "cell_type": "code",
   "execution_count": null,
   "metadata": {
    "colab": {
     "base_uri": "https://localhost:8080/",
     "height": 1000
    },
    "id": "AMJIk6u6a1K4",
    "outputId": "ccd394f5-7475-485d-b315-56698b2be9b2"
   },
   "outputs": [
    {
     "data": {
      "application/vnd.google.colaboratory.intrinsic+json": {
       "summary": "{\n  \"name\": \"df_train\",\n  \"rows\": 9,\n  \"fields\": [\n    {\n      \"column\": \"srno\",\n      \"properties\": {\n        \"dtype\": \"number\",\n        \"std\": 10715,\n        \"min\": 16975,\n        \"max\": 49016,\n        \"num_unique_values\": 9,\n        \"samples\": [\n          46414,\n          20749,\n          34417\n        ],\n        \"semantic_type\": \"\",\n        \"description\": \"\"\n      }\n    },\n    {\n      \"column\": \"movie_name\",\n      \"properties\": {\n        \"dtype\": \"string\",\n        \"num_unique_values\": 9,\n        \"samples\": [\n          \" Evil Tales 3: The Final Chapter (2003) \",\n          \" Blocking the Path to 9/11 (2008) \",\n          \" Voices in Exile (2005) \"\n        ],\n        \"semantic_type\": \"\",\n        \"description\": \"\"\n      }\n    },\n    {\n      \"column\": \"genre\",\n      \"properties\": {\n        \"dtype\": \"category\",\n        \"num_unique_values\": 4,\n        \"samples\": [\n          \" reality-tv \",\n          \" horror \",\n          \" documentary \"\n        ],\n        \"semantic_type\": \"\",\n        \"description\": \"\"\n      }\n    },\n    {\n      \"column\": \"plot\",\n      \"properties\": {\n        \"dtype\": \"string\",\n        \"num_unique_values\": 9,\n        \"samples\": [\n          \" 4 short films of horror are related by scantily clad hostess Pamela Sutch. 'The Madness' involves a young man who is suffering some terrible nightmares of his ex-wife, makes repeated visits to a psychiatrist, and ends up a pawn in an evil scheme. 'The Dead Forest' is about a man who attempts to bury his slaughtered newborn deep within a forest to cover his evil deed until he is tormented by the cries of his departed child and a disturbing vision. 'The Nudy Channel' revolves around a cable channel that features a temptress who speaks directly to the viewer, forcing them to commit suicide. 'Demon In The Basement' features a homemade video diary of a doctor revealing the secret monster kept in his basement that has been killing women in his home. Voted one of the Worst Movies of 2003 by Video Graveyard Review Site ( http://www.thevideograveyard.com/2003.html)\",\n          \" There's more to the story of the Clintons and 9/11. Over two nights -- September 10-11, 2006, just four months before Hillary announced the exploratory committee for her original presidential campaign, ABC aired The Path to 9/11, a riveting and factual docudrama. This acclaimed and balanced movie faulted two administrations -- Bill Clinton and George W. Bush. But fairness was not what Hillary wanted. Screenwriter Cyrus Nowrasteh told me he had expected the customary DVD distribution. But the Clintons, fearing the impact of DVD release during her campaign, successfully pressured Disney, which owns ABC, to bury the movie. This is a portion of a news article that originally appeared: http://www.frontpagemag.com/fpm/261541/hillarys-path-back-911-arnold-steinberg This article originally appeared in The Huffington Post http://www.huffingtonpost.com/arnold-steinberg/hillarys-path-back-to-911_b_9039658.html This article was written by Arnold Steinberg from Huffington Post and was legally licensed through the NewsCred publisher network.\",\n          \" Most film and photography on Tibet is from \\\"The West\\\" or \\\"Western Eye\\\" looking in. This film 'Voices in Exile' by Tibetan and first time director Tenzin Wangden Andrugtsang, presents the Tibetan Exile Community from the rarely seen Tibetan point of view. Never before seen footage from The Tibetan Exile Community, includes, many interviews, and accounts of life in exile. Shot in black and white and color,and with English Voice Over. Parade Magazine calls The Tibetan Photo Project \\\"Rewarding\\\". The film \\\"Voices In Exile\\\" is hailed as a mini masterpiece. You can buy your copy at http://www.customflix.com/207375\"\n        ],\n        \"semantic_type\": \"\",\n        \"description\": \"\"\n      }\n    }\n  ]\n}",
       "type": "dataframe"
      },
      "text/html": [
       "\n",
       "  <div id=\"df-0e4e23a5-407b-40df-b818-26fb05123a45\" class=\"colab-df-container\">\n",
       "    <div>\n",
       "<style scoped>\n",
       "    .dataframe tbody tr th:only-of-type {\n",
       "        vertical-align: middle;\n",
       "    }\n",
       "\n",
       "    .dataframe tbody tr th {\n",
       "        vertical-align: top;\n",
       "    }\n",
       "\n",
       "    .dataframe thead th {\n",
       "        text-align: right;\n",
       "    }\n",
       "</style>\n",
       "<table border=\"1\" class=\"dataframe\">\n",
       "  <thead>\n",
       "    <tr style=\"text-align: right;\">\n",
       "      <th></th>\n",
       "      <th>srno</th>\n",
       "      <th>movie_name</th>\n",
       "      <th>genre</th>\n",
       "      <th>plot</th>\n",
       "    </tr>\n",
       "  </thead>\n",
       "  <tbody>\n",
       "    <tr>\n",
       "      <th>16974</th>\n",
       "      <td>16975</td>\n",
       "      <td>The Happiness Matrix (2012)</td>\n",
       "      <td>documentary</td>\n",
       "      <td>Volume 1 of \"The Happiness Matrix\", a 2-hour personal growth DVD, manifesting, in a practical, authentic and engaging manner, a powerful thought process that anyone can use to transform their lives. Sourced from wisdom traditions, \"The Happiness Matrix\" is a thoroughly tested and proven program based on the life-changing MBA course, \"Creativity &amp; Personal Mastery\", taught at some of the world's top ranking business schools. \"The Happiness Matrix\" will open you up to possibilities you never dreamed of and give you the tools you need to begin your transformation. Your internal changes will be rapidly reflected in the world outside and lead you to an immeasurably more fulfilling life. For further information, please email support@TheHappinessMatrix.com To view the Trailer, visit: http://www.thehappinessmatrix.com/trailer.html</td>\n",
       "    </tr>\n",
       "    <tr>\n",
       "      <th>20748</th>\n",
       "      <td>20749</td>\n",
       "      <td>Blocking the Path to 9/11 (2008)</td>\n",
       "      <td>documentary</td>\n",
       "      <td>There's more to the story of the Clintons and 9/11. Over two nights -- September 10-11, 2006, just four months before Hillary announced the exploratory committee for her original presidential campaign, ABC aired The Path to 9/11, a riveting and factual docudrama. This acclaimed and balanced movie faulted two administrations -- Bill Clinton and George W. Bush. But fairness was not what Hillary wanted. Screenwriter Cyrus Nowrasteh told me he had expected the customary DVD distribution. But the Clintons, fearing the impact of DVD release during her campaign, successfully pressured Disney, which owns ABC, to bury the movie. This is a portion of a news article that originally appeared: http://www.frontpagemag.com/fpm/261541/hillarys-path-back-911-arnold-steinberg This article originally appeared in The Huffington Post http://www.huffingtonpost.com/arnold-steinberg/hillarys-path-back-to-911_b_9039658.html This article was written by Arnold Steinberg from Huffington Post and was legally licensed through the NewsCred publisher network.</td>\n",
       "    </tr>\n",
       "    <tr>\n",
       "      <th>26257</th>\n",
       "      <td>26258</td>\n",
       "      <td>\"Offbeat America\" (2005)</td>\n",
       "      <td>reality-tv</td>\n",
       "      <td>High Noon Entertainment hosts visit the Asian style home of Ramblin' \"Doc\" Tommy Scott in the North Georgia mountains. The home is the base camp for Scott's Last Real Old Time Medicine Show. Two segments were included per episode. You will find info about this episode at http://www.georgia.org/SiteCollectionDocuments/Industries/Entertainment/1106FallNewsletter.pdf on page 5.... Unfortunately, I do not know the correct name of the episode and the exact air date, although it aired several times after June of that year.</td>\n",
       "    </tr>\n",
       "    <tr>\n",
       "      <th>30651</th>\n",
       "      <td>30652</td>\n",
       "      <td>Hollywood Love (1998)</td>\n",
       "      <td>comedy</td>\n",
       "      <td>A feminist sex movie??? http:hollywoodlovemovie.wordpress.com is a movie farce about modern love in show biz HOLLYWOOD LOVE is a comedy of dominance and submission, and the duet dance of perpetrator and victim that usually makes both partners losers, sometimes winners, always ridiculous. The sex scenes are athletic and loud, as in real life -- and pointedly in contrast to the soft-focus, lyrical artificial look of most movie love scenes. Adult but not pornographic, not suitable for children, but a great starting point for discussion in a romance. This is shocking comedy about socially relevant issues to stimulate audiences, comedy that is physical without becoming fstupid, farce that is ribald without becoming pornographic. HOLLYWOOD LOVE presents a hyper modern version of the battles of sex and the sexes, influenced by feminism and the sexual revolution and gender-bending. In the story, an innocent young man from the hills brings his guitar to Hollywood, hoping to break into show business, but meets his love match in the confused, mercurial Lana Lovely, and more than his match in their boss, Ms. Pringle, dominant director of music videos and sexual desires. The milieu is music video production in an underground Hollywood of wild rhythms, provocative dance, and freaky passions. The title song expresses the theme: Everybody likes to do things different; Love can be wild or love can be tame. Hollywood love is a different kind of love, Yet really true love remains the same.</td>\n",
       "    </tr>\n",
       "    <tr>\n",
       "      <th>33419</th>\n",
       "      <td>33420</td>\n",
       "      <td>Trust 22 (2007)</td>\n",
       "      <td>documentary</td>\n",
       "      <td>In this amazing film full of magic the director will take you into a fabulous journey into the world of manifestation and the power of intention. After quitting his job at Nickelodeon (MTV Networks) Oren Stambouli decided that he was going to follow the flow of live to find people around the world that were pursuing their dreams. He understood that in order for this film to have an effect on people he had to find every day people pursuing \"impossible\" dreams and while shooting the film they will achieve them. On top of that he had an extra challenge; he didn't have a camera, a budget or even a script. But he had a story to tell and nothing was going to stop him from achieving his own dream. Welcome to Trust 22, were believing in a dream is the first step to seeing it, and not the last one. Special interviews with Singer/Songwriter Ricardo Montaner, who has sold more than 22 million albums worldwide. Latin Grammy winner and Grammy Nominee Nestor Torres &amp; Journalist and radio host Eli Bravo. For more info visit http://www.trust22.com</td>\n",
       "    </tr>\n",
       "    <tr>\n",
       "      <th>34416</th>\n",
       "      <td>34417</td>\n",
       "      <td>Voices in Exile (2005)</td>\n",
       "      <td>documentary</td>\n",
       "      <td>Most film and photography on Tibet is from \"The West\" or \"Western Eye\" looking in. This film 'Voices in Exile' by Tibetan and first time director Tenzin Wangden Andrugtsang, presents the Tibetan Exile Community from the rarely seen Tibetan point of view. Never before seen footage from The Tibetan Exile Community, includes, many interviews, and accounts of life in exile. Shot in black and white and color,and with English Voice Over. Parade Magazine calls The Tibetan Photo Project \"Rewarding\". The film \"Voices In Exile\" is hailed as a mini masterpiece. You can buy your copy at http://www.customflix.com/207375</td>\n",
       "    </tr>\n",
       "    <tr>\n",
       "      <th>37725</th>\n",
       "      <td>37726</td>\n",
       "      <td>A Strange Love Affair with Ego (2015)</td>\n",
       "      <td>documentary</td>\n",
       "      <td>Ever since she was a young child, filmmaker Ester Gould has been amazed by the sheer self-confidence of her older sister Rowan, whose boundless creativity and natural beauty tended to make everyone around her jealous. She has the world at her feet, and the universe is her playground. But can such a well-developed sense of your own worth go too far? Self-assurance is greatly valued - until it spills over into an unhealthy overestimation of the self. In this incisive, personal visual essay, Gould explores our society's increasing obsession with the self. Thanks in part to social media, the pressure to have a fantastically successful life is ever greater; personal development seems to be the only thing that counts. The filmmaker follows a number of seemingly successful people going out, socializing and participating in the art world, as they reflect in conversations or interviews on the level of self-confidence they display and how this relates to their actual \"self.\" Meanwhile, dreamy reenactments tell the story of the filmmaker's sister Rowan, illustrated by excerpts from correspondence between the sisters. How marvelously everything is going; how fantastically she's doing; she's taking yet another inspirational course; she gets so many invites that there's simply no time. Gould gradually starts to question her interesting sister's stories, which leads to a disconcerting denouement. - See more at: https://www.idfa.nl/industry/tags/project.aspx?id=0EB122D3-2D7D-474F-9AFE-25948DD336E8#sthash.wgBgnTGl.dpuf Admiration for her sister Rowan's self-confidence leads filmmaker Ester Gould on a personal exploration of our narcissistic culture, with disconcerting results. A remarkable journey past four life stages and the fundamental need to be seen.</td>\n",
       "    </tr>\n",
       "    <tr>\n",
       "      <th>46413</th>\n",
       "      <td>46414</td>\n",
       "      <td>Evil Tales 3: The Final Chapter (2003)</td>\n",
       "      <td>horror</td>\n",
       "      <td>4 short films of horror are related by scantily clad hostess Pamela Sutch. 'The Madness' involves a young man who is suffering some terrible nightmares of his ex-wife, makes repeated visits to a psychiatrist, and ends up a pawn in an evil scheme. 'The Dead Forest' is about a man who attempts to bury his slaughtered newborn deep within a forest to cover his evil deed until he is tormented by the cries of his departed child and a disturbing vision. 'The Nudy Channel' revolves around a cable channel that features a temptress who speaks directly to the viewer, forcing them to commit suicide. 'Demon In The Basement' features a homemade video diary of a doctor revealing the secret monster kept in his basement that has been killing women in his home. Voted one of the Worst Movies of 2003 by Video Graveyard Review Site ( http://www.thevideograveyard.com/2003.html)</td>\n",
       "    </tr>\n",
       "    <tr>\n",
       "      <th>49015</th>\n",
       "      <td>49016</td>\n",
       "      <td>\"The L.A. Hardcore\" (2005)</td>\n",
       "      <td>documentary</td>\n",
       "      <td>The L.A. Hardcore is a television series taking us on a journey through Los Angeles in the 1980s, from the perspective of skateboarding and punk rock. The story is told via a series of readings on the era (including Tony Hawk reading from his own biography, Henry Rollins and comedian Bill Hicks!), alongside live music performances from bands like Black Flag and The Circle Jerks. List of books featured in the series is here http://www.extreme.com/news/news_article.asp?SID=394.</td>\n",
       "    </tr>\n",
       "  </tbody>\n",
       "</table>\n",
       "</div>\n",
       "    <div class=\"colab-df-buttons\">\n",
       "\n",
       "  <div class=\"colab-df-container\">\n",
       "    <button class=\"colab-df-convert\" onclick=\"convertToInteractive('df-0e4e23a5-407b-40df-b818-26fb05123a45')\"\n",
       "            title=\"Convert this dataframe to an interactive table.\"\n",
       "            style=\"display:none;\">\n",
       "\n",
       "  <svg xmlns=\"http://www.w3.org/2000/svg\" height=\"24px\" viewBox=\"0 -960 960 960\">\n",
       "    <path d=\"M120-120v-720h720v720H120Zm60-500h600v-160H180v160Zm220 220h160v-160H400v160Zm0 220h160v-160H400v160ZM180-400h160v-160H180v160Zm440 0h160v-160H620v160ZM180-180h160v-160H180v160Zm440 0h160v-160H620v160Z\"/>\n",
       "  </svg>\n",
       "    </button>\n",
       "\n",
       "  <style>\n",
       "    .colab-df-container {\n",
       "      display:flex;\n",
       "      gap: 12px;\n",
       "    }\n",
       "\n",
       "    .colab-df-convert {\n",
       "      background-color: #E8F0FE;\n",
       "      border: none;\n",
       "      border-radius: 50%;\n",
       "      cursor: pointer;\n",
       "      display: none;\n",
       "      fill: #1967D2;\n",
       "      height: 32px;\n",
       "      padding: 0 0 0 0;\n",
       "      width: 32px;\n",
       "    }\n",
       "\n",
       "    .colab-df-convert:hover {\n",
       "      background-color: #E2EBFA;\n",
       "      box-shadow: 0px 1px 2px rgba(60, 64, 67, 0.3), 0px 1px 3px 1px rgba(60, 64, 67, 0.15);\n",
       "      fill: #174EA6;\n",
       "    }\n",
       "\n",
       "    .colab-df-buttons div {\n",
       "      margin-bottom: 4px;\n",
       "    }\n",
       "\n",
       "    [theme=dark] .colab-df-convert {\n",
       "      background-color: #3B4455;\n",
       "      fill: #D2E3FC;\n",
       "    }\n",
       "\n",
       "    [theme=dark] .colab-df-convert:hover {\n",
       "      background-color: #434B5C;\n",
       "      box-shadow: 0px 1px 3px 1px rgba(0, 0, 0, 0.15);\n",
       "      filter: drop-shadow(0px 1px 2px rgba(0, 0, 0, 0.3));\n",
       "      fill: #FFFFFF;\n",
       "    }\n",
       "  </style>\n",
       "\n",
       "    <script>\n",
       "      const buttonEl =\n",
       "        document.querySelector('#df-0e4e23a5-407b-40df-b818-26fb05123a45 button.colab-df-convert');\n",
       "      buttonEl.style.display =\n",
       "        google.colab.kernel.accessAllowed ? 'block' : 'none';\n",
       "\n",
       "      async function convertToInteractive(key) {\n",
       "        const element = document.querySelector('#df-0e4e23a5-407b-40df-b818-26fb05123a45');\n",
       "        const dataTable =\n",
       "          await google.colab.kernel.invokeFunction('convertToInteractive',\n",
       "                                                    [key], {});\n",
       "        if (!dataTable) return;\n",
       "\n",
       "        const docLinkHtml = 'Like what you see? Visit the ' +\n",
       "          '<a target=\"_blank\" href=https://colab.research.google.com/notebooks/data_table.ipynb>data table notebook</a>'\n",
       "          + ' to learn more about interactive tables.';\n",
       "        element.innerHTML = '';\n",
       "        dataTable['output_type'] = 'display_data';\n",
       "        await google.colab.output.renderOutput(dataTable, element);\n",
       "        const docLink = document.createElement('div');\n",
       "        docLink.innerHTML = docLinkHtml;\n",
       "        element.appendChild(docLink);\n",
       "      }\n",
       "    </script>\n",
       "  </div>\n",
       "\n",
       "\n",
       "<div id=\"df-4109642c-f601-46b4-a912-8042c7a06311\">\n",
       "  <button class=\"colab-df-quickchart\" onclick=\"quickchart('df-4109642c-f601-46b4-a912-8042c7a06311')\"\n",
       "            title=\"Suggest charts\"\n",
       "            style=\"display:none;\">\n",
       "\n",
       "<svg xmlns=\"http://www.w3.org/2000/svg\" height=\"24px\"viewBox=\"0 0 24 24\"\n",
       "     width=\"24px\">\n",
       "    <g>\n",
       "        <path d=\"M19 3H5c-1.1 0-2 .9-2 2v14c0 1.1.9 2 2 2h14c1.1 0 2-.9 2-2V5c0-1.1-.9-2-2-2zM9 17H7v-7h2v7zm4 0h-2V7h2v10zm4 0h-2v-4h2v4z\"/>\n",
       "    </g>\n",
       "</svg>\n",
       "  </button>\n",
       "\n",
       "<style>\n",
       "  .colab-df-quickchart {\n",
       "      --bg-color: #E8F0FE;\n",
       "      --fill-color: #1967D2;\n",
       "      --hover-bg-color: #E2EBFA;\n",
       "      --hover-fill-color: #174EA6;\n",
       "      --disabled-fill-color: #AAA;\n",
       "      --disabled-bg-color: #DDD;\n",
       "  }\n",
       "\n",
       "  [theme=dark] .colab-df-quickchart {\n",
       "      --bg-color: #3B4455;\n",
       "      --fill-color: #D2E3FC;\n",
       "      --hover-bg-color: #434B5C;\n",
       "      --hover-fill-color: #FFFFFF;\n",
       "      --disabled-bg-color: #3B4455;\n",
       "      --disabled-fill-color: #666;\n",
       "  }\n",
       "\n",
       "  .colab-df-quickchart {\n",
       "    background-color: var(--bg-color);\n",
       "    border: none;\n",
       "    border-radius: 50%;\n",
       "    cursor: pointer;\n",
       "    display: none;\n",
       "    fill: var(--fill-color);\n",
       "    height: 32px;\n",
       "    padding: 0;\n",
       "    width: 32px;\n",
       "  }\n",
       "\n",
       "  .colab-df-quickchart:hover {\n",
       "    background-color: var(--hover-bg-color);\n",
       "    box-shadow: 0 1px 2px rgba(60, 64, 67, 0.3), 0 1px 3px 1px rgba(60, 64, 67, 0.15);\n",
       "    fill: var(--button-hover-fill-color);\n",
       "  }\n",
       "\n",
       "  .colab-df-quickchart-complete:disabled,\n",
       "  .colab-df-quickchart-complete:disabled:hover {\n",
       "    background-color: var(--disabled-bg-color);\n",
       "    fill: var(--disabled-fill-color);\n",
       "    box-shadow: none;\n",
       "  }\n",
       "\n",
       "  .colab-df-spinner {\n",
       "    border: 2px solid var(--fill-color);\n",
       "    border-color: transparent;\n",
       "    border-bottom-color: var(--fill-color);\n",
       "    animation:\n",
       "      spin 1s steps(1) infinite;\n",
       "  }\n",
       "\n",
       "  @keyframes spin {\n",
       "    0% {\n",
       "      border-color: transparent;\n",
       "      border-bottom-color: var(--fill-color);\n",
       "      border-left-color: var(--fill-color);\n",
       "    }\n",
       "    20% {\n",
       "      border-color: transparent;\n",
       "      border-left-color: var(--fill-color);\n",
       "      border-top-color: var(--fill-color);\n",
       "    }\n",
       "    30% {\n",
       "      border-color: transparent;\n",
       "      border-left-color: var(--fill-color);\n",
       "      border-top-color: var(--fill-color);\n",
       "      border-right-color: var(--fill-color);\n",
       "    }\n",
       "    40% {\n",
       "      border-color: transparent;\n",
       "      border-right-color: var(--fill-color);\n",
       "      border-top-color: var(--fill-color);\n",
       "    }\n",
       "    60% {\n",
       "      border-color: transparent;\n",
       "      border-right-color: var(--fill-color);\n",
       "    }\n",
       "    80% {\n",
       "      border-color: transparent;\n",
       "      border-right-color: var(--fill-color);\n",
       "      border-bottom-color: var(--fill-color);\n",
       "    }\n",
       "    90% {\n",
       "      border-color: transparent;\n",
       "      border-bottom-color: var(--fill-color);\n",
       "    }\n",
       "  }\n",
       "</style>\n",
       "\n",
       "  <script>\n",
       "    async function quickchart(key) {\n",
       "      const quickchartButtonEl =\n",
       "        document.querySelector('#' + key + ' button');\n",
       "      quickchartButtonEl.disabled = true;  // To prevent multiple clicks.\n",
       "      quickchartButtonEl.classList.add('colab-df-spinner');\n",
       "      try {\n",
       "        const charts = await google.colab.kernel.invokeFunction(\n",
       "            'suggestCharts', [key], {});\n",
       "      } catch (error) {\n",
       "        console.error('Error during call to suggestCharts:', error);\n",
       "      }\n",
       "      quickchartButtonEl.classList.remove('colab-df-spinner');\n",
       "      quickchartButtonEl.classList.add('colab-df-quickchart-complete');\n",
       "    }\n",
       "    (() => {\n",
       "      let quickchartButtonEl =\n",
       "        document.querySelector('#df-4109642c-f601-46b4-a912-8042c7a06311 button');\n",
       "      quickchartButtonEl.style.display =\n",
       "        google.colab.kernel.accessAllowed ? 'block' : 'none';\n",
       "    })();\n",
       "  </script>\n",
       "</div>\n",
       "\n",
       "    </div>\n",
       "  </div>\n"
      ],
      "text/plain": [
       "        srno                                movie_name          genre  \\\n",
       "16974  16975              The Happiness Matrix (2012)    documentary    \n",
       "20748  20749         Blocking the Path to 9/11 (2008)    documentary    \n",
       "26257  26258                 \"Offbeat America\" (2005)     reality-tv    \n",
       "30651  30652                    Hollywood Love (1998)         comedy    \n",
       "33419  33420                          Trust 22 (2007)    documentary    \n",
       "34416  34417                   Voices in Exile (2005)    documentary    \n",
       "37725  37726    A Strange Love Affair with Ego (2015)    documentary    \n",
       "46413  46414   Evil Tales 3: The Final Chapter (2003)         horror    \n",
       "49015  49016               \"The L.A. Hardcore\" (2005)    documentary    \n",
       "\n",
       "                                                                                                                                                                                                                                                                                                                                                                                                                                                                                                                                                                                                                                                                                                                                                                                                                                                                                                                                                                                                                                                                                                                                                                                                                                                                                                                                                                                                                                                                                                                                                                                                                                                                                                                                                                                                                                            plot  \n",
       "16974                                                                                                                                                                                                                                                                                                                                                                                                                                                                                                                                                                                                                                                                                                                                                                                                                                                                                                                                                                         Volume 1 of \"The Happiness Matrix\", a 2-hour personal growth DVD, manifesting, in a practical, authentic and engaging manner, a powerful thought process that anyone can use to transform their lives. Sourced from wisdom traditions, \"The Happiness Matrix\" is a thoroughly tested and proven program based on the life-changing MBA course, \"Creativity & Personal Mastery\", taught at some of the world's top ranking business schools. \"The Happiness Matrix\" will open you up to possibilities you never dreamed of and give you the tools you need to begin your transformation. Your internal changes will be rapidly reflected in the world outside and lead you to an immeasurably more fulfilling life. For further information, please email support@TheHappinessMatrix.com To view the Trailer, visit: http://www.thehappinessmatrix.com/trailer.html  \n",
       "20748                                                                                                                                                                                                                                                                                                                                                                                                                                                                                                                                                                                                                                                                                                                                                        There's more to the story of the Clintons and 9/11. Over two nights -- September 10-11, 2006, just four months before Hillary announced the exploratory committee for her original presidential campaign, ABC aired The Path to 9/11, a riveting and factual docudrama. This acclaimed and balanced movie faulted two administrations -- Bill Clinton and George W. Bush. But fairness was not what Hillary wanted. Screenwriter Cyrus Nowrasteh told me he had expected the customary DVD distribution. But the Clintons, fearing the impact of DVD release during her campaign, successfully pressured Disney, which owns ABC, to bury the movie. This is a portion of a news article that originally appeared: http://www.frontpagemag.com/fpm/261541/hillarys-path-back-911-arnold-steinberg This article originally appeared in The Huffington Post http://www.huffingtonpost.com/arnold-steinberg/hillarys-path-back-to-911_b_9039658.html This article was written by Arnold Steinberg from Huffington Post and was legally licensed through the NewsCred publisher network.  \n",
       "26257                                                                                                                                                                                                                                                                                                                                                                                                                                                                                                                                                                                                                                                                                                                                                                                                                                                                                                                                                                                                                                                                                                                                                                                                                                                                                                 High Noon Entertainment hosts visit the Asian style home of Ramblin' \"Doc\" Tommy Scott in the North Georgia mountains. The home is the base camp for Scott's Last Real Old Time Medicine Show. Two segments were included per episode. You will find info about this episode at http://www.georgia.org/SiteCollectionDocuments/Industries/Entertainment/1106FallNewsletter.pdf on page 5.... Unfortunately, I do not know the correct name of the episode and the exact air date, although it aired several times after June of that year.  \n",
       "30651                                                                                                                                                                                                                                                                                    A feminist sex movie??? http:hollywoodlovemovie.wordpress.com is a movie farce about modern love in show biz HOLLYWOOD LOVE is a comedy of dominance and submission, and the duet dance of perpetrator and victim that usually makes both partners losers, sometimes winners, always ridiculous. The sex scenes are athletic and loud, as in real life -- and pointedly in contrast to the soft-focus, lyrical artificial look of most movie love scenes. Adult but not pornographic, not suitable for children, but a great starting point for discussion in a romance. This is shocking comedy about socially relevant issues to stimulate audiences, comedy that is physical without becoming fstupid, farce that is ribald without becoming pornographic. HOLLYWOOD LOVE presents a hyper modern version of the battles of sex and the sexes, influenced by feminism and the sexual revolution and gender-bending. In the story, an innocent young man from the hills brings his guitar to Hollywood, hoping to break into show business, but meets his love match in the confused, mercurial Lana Lovely, and more than his match in their boss, Ms. Pringle, dominant director of music videos and sexual desires. The milieu is music video production in an underground Hollywood of wild rhythms, provocative dance, and freaky passions. The title song expresses the theme: Everybody likes to do things different; Love can be wild or love can be tame. Hollywood love is a different kind of love, Yet really true love remains the same.  \n",
       "33419                                                                                                                                                                                                                                                                                                                                                                                                                                                                                                                                                                                                                                                                                                                                                    In this amazing film full of magic the director will take you into a fabulous journey into the world of manifestation and the power of intention. After quitting his job at Nickelodeon (MTV Networks) Oren Stambouli decided that he was going to follow the flow of live to find people around the world that were pursuing their dreams. He understood that in order for this film to have an effect on people he had to find every day people pursuing \"impossible\" dreams and while shooting the film they will achieve them. On top of that he had an extra challenge; he didn't have a camera, a budget or even a script. But he had a story to tell and nothing was going to stop him from achieving his own dream. Welcome to Trust 22, were believing in a dream is the first step to seeing it, and not the last one. Special interviews with Singer/Songwriter Ricardo Montaner, who has sold more than 22 million albums worldwide. Latin Grammy winner and Grammy Nominee Nestor Torres & Journalist and radio host Eli Bravo. For more info visit http://www.trust22.com  \n",
       "34416                                                                                                                                                                                                                                                                                                                                                                                                                                                                                                                                                                                                                                                                                                                                                                                                                                                                                                                                                                                                                                                                                                                                                                                                     Most film and photography on Tibet is from \"The West\" or \"Western Eye\" looking in. This film 'Voices in Exile' by Tibetan and first time director Tenzin Wangden Andrugtsang, presents the Tibetan Exile Community from the rarely seen Tibetan point of view. Never before seen footage from The Tibetan Exile Community, includes, many interviews, and accounts of life in exile. Shot in black and white and color,and with English Voice Over. Parade Magazine calls The Tibetan Photo Project \"Rewarding\". The film \"Voices In Exile\" is hailed as a mini masterpiece. You can buy your copy at http://www.customflix.com/207375  \n",
       "37725   Ever since she was a young child, filmmaker Ester Gould has been amazed by the sheer self-confidence of her older sister Rowan, whose boundless creativity and natural beauty tended to make everyone around her jealous. She has the world at her feet, and the universe is her playground. But can such a well-developed sense of your own worth go too far? Self-assurance is greatly valued - until it spills over into an unhealthy overestimation of the self. In this incisive, personal visual essay, Gould explores our society's increasing obsession with the self. Thanks in part to social media, the pressure to have a fantastically successful life is ever greater; personal development seems to be the only thing that counts. The filmmaker follows a number of seemingly successful people going out, socializing and participating in the art world, as they reflect in conversations or interviews on the level of self-confidence they display and how this relates to their actual \"self.\" Meanwhile, dreamy reenactments tell the story of the filmmaker's sister Rowan, illustrated by excerpts from correspondence between the sisters. How marvelously everything is going; how fantastically she's doing; she's taking yet another inspirational course; she gets so many invites that there's simply no time. Gould gradually starts to question her interesting sister's stories, which leads to a disconcerting denouement. - See more at: https://www.idfa.nl/industry/tags/project.aspx?id=0EB122D3-2D7D-474F-9AFE-25948DD336E8#sthash.wgBgnTGl.dpuf Admiration for her sister Rowan's self-confidence leads filmmaker Ester Gould on a personal exploration of our narcissistic culture, with disconcerting results. A remarkable journey past four life stages and the fundamental need to be seen.  \n",
       "46413                                                                                                                                                                                                                                                                                                                                                                                                                                                                                                                                                                                                                                                                                                                                                                                                                                                                                                                                       4 short films of horror are related by scantily clad hostess Pamela Sutch. 'The Madness' involves a young man who is suffering some terrible nightmares of his ex-wife, makes repeated visits to a psychiatrist, and ends up a pawn in an evil scheme. 'The Dead Forest' is about a man who attempts to bury his slaughtered newborn deep within a forest to cover his evil deed until he is tormented by the cries of his departed child and a disturbing vision. 'The Nudy Channel' revolves around a cable channel that features a temptress who speaks directly to the viewer, forcing them to commit suicide. 'Demon In The Basement' features a homemade video diary of a doctor revealing the secret monster kept in his basement that has been killing women in his home. Voted one of the Worst Movies of 2003 by Video Graveyard Review Site ( http://www.thevideograveyard.com/2003.html)  \n",
       "49015                                                                                                                                                                                                                                                                                                                                                                                                                                                                                                                                                                                                                                                                                                                                                                                                                                                                                                                                                                                                                                                                                                                                                                                                                                                                                                                                           The L.A. Hardcore is a television series taking us on a journey through Los Angeles in the 1980s, from the perspective of skateboarding and punk rock. The story is told via a series of readings on the era (including Tony Hawk reading from his own biography, Henry Rollins and comedian Bill Hicks!), alongside live music performances from bands like Black Flag and The Circle Jerks. List of books featured in the series is here http://www.extreme.com/news/news_article.asp?SID=394.  "
      ]
     },
     "execution_count": 3,
     "metadata": {},
     "output_type": "execute_result"
    }
   ],
   "source": [
    "df_train.loc[df_train['plot'].str.contains(r'http\\S+', na=False)]"
   ]
  },
  {
   "cell_type": "markdown",
   "metadata": {
    "id": "7sHWYWQeKdVT"
   },
   "source": [
    "Data Cleaning"
   ]
  },
  {
   "cell_type": "code",
   "execution_count": 4,
   "metadata": {
    "colab": {
     "base_uri": "https://localhost:8080/"
    },
    "id": "CZBUun2ea1NH",
    "outputId": "81e44eda-c497-49c4-851c-3dce91a0d323"
   },
   "outputs": [
    {
     "name": "stderr",
     "output_type": "stream",
     "text": [
      "[nltk_data] Downloading package stopwords to /root/nltk_data...\n",
      "[nltk_data]   Unzipping corpora/stopwords.zip.\n"
     ]
    }
   ],
   "source": [
    "import re\n",
    "import string\n",
    "import nltk\n",
    "from nltk.corpus import stopwords\n",
    "nltk.download('stopwords')\n",
    "stop_words = set(stopwords.words('english'))"
   ]
  },
  {
   "cell_type": "code",
   "execution_count": 5,
   "metadata": {
    "id": "SaH1wLA1a1QJ"
   },
   "outputs": [],
   "source": [
    "\n",
    "def clean(text):\n",
    "    # Lower casing\n",
    "    text = text.lower()\n",
    "\n",
    "    # Replacing emails\n",
    "    text = re.sub(r'\\S+@\\S+', '', text)\n",
    "\n",
    "    # Replacing hyperlinks\n",
    "    text = re.sub(r'http\\S+', '', text)\n",
    "\n",
    "    # Removing punctuation and digits\n",
    "    text = re.sub(f'[{string.punctuation}]', '', text)\n",
    "    text = re.sub(f'[{string.digits}]', '', text)\n",
    "\n",
    "    # Removing single characters\n",
    "    text = re.sub(r'\\s+[a-zA-Z]\\s+', ' ', text)\n",
    "\n",
    "    # Tokenization and stopwords removal\n",
    "    words = nltk.tokenize.word_tokenize(text)\n",
    "    text = \" \".join([word for word in words if word not in stop_words and len(word) > 2])\n",
    "\n",
    "    return text.strip()"
   ]
  },
  {
   "cell_type": "code",
   "execution_count": 6,
   "metadata": {
    "colab": {
     "base_uri": "https://localhost:8080/",
     "height": 536
    },
    "id": "MEN313Sla1S5",
    "outputId": "ac8e06a5-90d2-4838-9e5b-247ce79424bb"
   },
   "outputs": [
    {
     "data": {
      "application/vnd.google.colaboratory.intrinsic+json": {
       "summary": "{\n  \"name\": \"df_train\",\n  \"rows\": 54200,\n  \"fields\": [\n    {\n      \"column\": \"srno\",\n      \"properties\": {\n        \"dtype\": \"number\",\n        \"std\": 15646,\n        \"min\": 1,\n        \"max\": 54200,\n        \"num_unique_values\": 54200,\n        \"samples\": [\n          7723,\n          3190,\n          927\n        ],\n        \"semantic_type\": \"\",\n        \"description\": \"\"\n      }\n    },\n    {\n      \"column\": \"movie_name\",\n      \"properties\": {\n        \"dtype\": \"string\",\n        \"num_unique_values\": 54200,\n        \"samples\": [\n          \" \\\"Madhu Ethe Ani Chandra Tithe\\\" (2011) \",\n          \" Exit (2005/III) \",\n          \" El camino (2008/III) \"\n        ],\n        \"semantic_type\": \"\",\n        \"description\": \"\"\n      }\n    },\n    {\n      \"column\": \"genre\",\n      \"properties\": {\n        \"dtype\": \"category\",\n        \"num_unique_values\": 27,\n        \"samples\": [\n          \" sport \",\n          \" sci-fi \",\n          \" animation \"\n        ],\n        \"semantic_type\": \"\",\n        \"description\": \"\"\n      }\n    },\n    {\n      \"column\": \"plot\",\n      \"properties\": {\n        \"dtype\": \"string\",\n        \"num_unique_values\": 54072,\n        \"samples\": [\n          \" It is the small hours at City Radio everyone is tired and tetchy. Steve goes to get Pizza, Eddie throws his weight around, Conchita tries to hold it all together and late night callers report seeing strange things. When Steve returns with the pizza's things will never be the same again.\",\n          \" Various locations on the surface of the earth have acquired a legendary reputation for being entrances to the underworld. In Ashe County, North Carolina residents have reported all manner of ghostly phenomena including apparitions of women, sounds of crying babies and phantom hitchhikers, one of which may have been none other than Lucifer himself. When Roxanne Wentworth purchased a beautiful set of iron gates from a local cemetery, she unknowingly turned her property into a gateway to the beyond. Paranormal events are now chronicled on a nightly basis. In Wilmington, North Carolina, Gallows Hill (which was once the city's hanging ground) is now a commercial office. Though the gallows are long gone, the unclaimed bodies of countless poor souls who hit the end of a rope are still buried in mass graves. These restless spirits continue to walk the grounds, and hallways of the property. The spirits of those executed are angry and to this day nobody has successfully spent a night alone in the house on Gallows Hill, though many have tried. Explore these encounters and more as we journey into the realms of the Paranormal and Supernatural.\",\n          \" Felix from West-Berlin falls in love with Thomas in East-Berlin. At first they keep their relationship going by regular visits from Felix, but the curfew forces him to return every evening. When the East-German authorities become suspicious, Thomas decides to try and flee to the West.\"\n        ],\n        \"semantic_type\": \"\",\n        \"description\": \"\"\n      }\n    }\n  ]\n}",
       "type": "dataframe",
       "variable_name": "df_train"
      },
      "text/html": [
       "\n",
       "  <div id=\"df-64e201b7-a9dc-4c8f-8105-5821dd07d6d6\" class=\"colab-df-container\">\n",
       "    <div>\n",
       "<style scoped>\n",
       "    .dataframe tbody tr th:only-of-type {\n",
       "        vertical-align: middle;\n",
       "    }\n",
       "\n",
       "    .dataframe tbody tr th {\n",
       "        vertical-align: top;\n",
       "    }\n",
       "\n",
       "    .dataframe thead th {\n",
       "        text-align: right;\n",
       "    }\n",
       "</style>\n",
       "<table border=\"1\" class=\"dataframe\">\n",
       "  <thead>\n",
       "    <tr style=\"text-align: right;\">\n",
       "      <th></th>\n",
       "      <th>srno</th>\n",
       "      <th>movie_name</th>\n",
       "      <th>genre</th>\n",
       "      <th>plot</th>\n",
       "    </tr>\n",
       "  </thead>\n",
       "  <tbody>\n",
       "    <tr>\n",
       "      <th>0</th>\n",
       "      <td>1</td>\n",
       "      <td>Oscar et la dame rose (2009)</td>\n",
       "      <td>drama</td>\n",
       "      <td>Listening in to a conversation between his doctor and parents, 10-year-old Oscar learns what nobody has the courage to tell him. He only has a few weeks to live. Furious, he refuses to speak to anyone except straight-talking Rose, the lady in pink he meets on the hospital stairs. As Christmas approaches, Rose uses her fantastical experiences as a professional wrestler, her imagination, wit and charm to allow Oscar to live life and love to the full, in the company of his friends Pop Corn, Einstein, Bacon and childhood sweetheart Peggy Blue.</td>\n",
       "    </tr>\n",
       "    <tr>\n",
       "      <th>1</th>\n",
       "      <td>2</td>\n",
       "      <td>Cupid (1997)</td>\n",
       "      <td>thriller</td>\n",
       "      <td>A brother and sister with a past incestuous relationship have a current murderous relationship. He murders the women who reject him and she murders the women who get too close to him.</td>\n",
       "    </tr>\n",
       "    <tr>\n",
       "      <th>2</th>\n",
       "      <td>3</td>\n",
       "      <td>Young, Wild and Wonderful (1980)</td>\n",
       "      <td>adult</td>\n",
       "      <td>As the bus empties the students for their field trip to the Museum of Natural History, little does the tour guide suspect that the students are there for more than just another tour. First, during the lecture films, the coeds drift into dreams of the most erotic fantasies one can imagine. After the films, they release the emotion of the fantasies in the most erotic and uncommon ways. One slips off to the curator's office for a little \"acquisition. \" Another finds the anthropologist to see what bones can be identified. Even the head teacher isn't immune. Soon the tour is over, but as the bus departs, everyone admits it was quite an education.</td>\n",
       "    </tr>\n",
       "    <tr>\n",
       "      <th>3</th>\n",
       "      <td>4</td>\n",
       "      <td>The Secret Sin (1915)</td>\n",
       "      <td>drama</td>\n",
       "      <td>To help their unemployed father make ends meet, Edith and her twin sister Grace work as seamstresses . An invalid, Grace falls prey to the temptations of Chinatown opium and becomes an addict, a condition worsened by a misguided physician who prescribes morphine to ease her pain. When their father strikes oil, the family enjoys a new prosperity and the sisters meet the eligible Jack Herron, a fellow oil prospector. To Grace's shock, Jack falls in love with Edith and in her jealousy, Grace tells Jack that Edith, not she, has a drug problem. Hinting that her sister will soon need more morphine, Grace arranges for a dinner in Chinatown with the couple. While her sister and Jack dance, Grace slips away to an opium den. Edith follows her, but ends up in the wrong den and is arrested in an ensuing drug raid. After he bails her out of jail, Edith takes an angry Jack to search for Grace and stumbles across her half-conscious body lying in the street. The truth about the sisters is revealed, and after sending Grace to a sanitarium in the country, Jack and Edith are married.</td>\n",
       "    </tr>\n",
       "    <tr>\n",
       "      <th>4</th>\n",
       "      <td>5</td>\n",
       "      <td>The Unrecovered (2007)</td>\n",
       "      <td>drama</td>\n",
       "      <td>The film's title refers not only to the un-recovered bodies at ground zero, but also to the state of the nation at large. Set in the hallucinatory period of time between September 11 and Halloween of 2001, The Unrecovered examines the effect of terror on the average mind, the way a state of heightened anxiety and/or alertness can cause the average person to make the sort of imaginative connections that are normally made only by artists and conspiracy theorists-both of whom figure prominently in this film. The Unrecovered explores the way in which irony, empathy, and paranoia relate to one another in the wake of 9/11.</td>\n",
       "    </tr>\n",
       "  </tbody>\n",
       "</table>\n",
       "</div>\n",
       "    <div class=\"colab-df-buttons\">\n",
       "\n",
       "  <div class=\"colab-df-container\">\n",
       "    <button class=\"colab-df-convert\" onclick=\"convertToInteractive('df-64e201b7-a9dc-4c8f-8105-5821dd07d6d6')\"\n",
       "            title=\"Convert this dataframe to an interactive table.\"\n",
       "            style=\"display:none;\">\n",
       "\n",
       "  <svg xmlns=\"http://www.w3.org/2000/svg\" height=\"24px\" viewBox=\"0 -960 960 960\">\n",
       "    <path d=\"M120-120v-720h720v720H120Zm60-500h600v-160H180v160Zm220 220h160v-160H400v160Zm0 220h160v-160H400v160ZM180-400h160v-160H180v160Zm440 0h160v-160H620v160ZM180-180h160v-160H180v160Zm440 0h160v-160H620v160Z\"/>\n",
       "  </svg>\n",
       "    </button>\n",
       "\n",
       "  <style>\n",
       "    .colab-df-container {\n",
       "      display:flex;\n",
       "      gap: 12px;\n",
       "    }\n",
       "\n",
       "    .colab-df-convert {\n",
       "      background-color: #E8F0FE;\n",
       "      border: none;\n",
       "      border-radius: 50%;\n",
       "      cursor: pointer;\n",
       "      display: none;\n",
       "      fill: #1967D2;\n",
       "      height: 32px;\n",
       "      padding: 0 0 0 0;\n",
       "      width: 32px;\n",
       "    }\n",
       "\n",
       "    .colab-df-convert:hover {\n",
       "      background-color: #E2EBFA;\n",
       "      box-shadow: 0px 1px 2px rgba(60, 64, 67, 0.3), 0px 1px 3px 1px rgba(60, 64, 67, 0.15);\n",
       "      fill: #174EA6;\n",
       "    }\n",
       "\n",
       "    .colab-df-buttons div {\n",
       "      margin-bottom: 4px;\n",
       "    }\n",
       "\n",
       "    [theme=dark] .colab-df-convert {\n",
       "      background-color: #3B4455;\n",
       "      fill: #D2E3FC;\n",
       "    }\n",
       "\n",
       "    [theme=dark] .colab-df-convert:hover {\n",
       "      background-color: #434B5C;\n",
       "      box-shadow: 0px 1px 3px 1px rgba(0, 0, 0, 0.15);\n",
       "      filter: drop-shadow(0px 1px 2px rgba(0, 0, 0, 0.3));\n",
       "      fill: #FFFFFF;\n",
       "    }\n",
       "  </style>\n",
       "\n",
       "    <script>\n",
       "      const buttonEl =\n",
       "        document.querySelector('#df-64e201b7-a9dc-4c8f-8105-5821dd07d6d6 button.colab-df-convert');\n",
       "      buttonEl.style.display =\n",
       "        google.colab.kernel.accessAllowed ? 'block' : 'none';\n",
       "\n",
       "      async function convertToInteractive(key) {\n",
       "        const element = document.querySelector('#df-64e201b7-a9dc-4c8f-8105-5821dd07d6d6');\n",
       "        const dataTable =\n",
       "          await google.colab.kernel.invokeFunction('convertToInteractive',\n",
       "                                                    [key], {});\n",
       "        if (!dataTable) return;\n",
       "\n",
       "        const docLinkHtml = 'Like what you see? Visit the ' +\n",
       "          '<a target=\"_blank\" href=https://colab.research.google.com/notebooks/data_table.ipynb>data table notebook</a>'\n",
       "          + ' to learn more about interactive tables.';\n",
       "        element.innerHTML = '';\n",
       "        dataTable['output_type'] = 'display_data';\n",
       "        await google.colab.output.renderOutput(dataTable, element);\n",
       "        const docLink = document.createElement('div');\n",
       "        docLink.innerHTML = docLinkHtml;\n",
       "        element.appendChild(docLink);\n",
       "      }\n",
       "    </script>\n",
       "  </div>\n",
       "\n",
       "\n",
       "<div id=\"df-d9c74463-c36c-49be-bcd0-ab9c44f02cae\">\n",
       "  <button class=\"colab-df-quickchart\" onclick=\"quickchart('df-d9c74463-c36c-49be-bcd0-ab9c44f02cae')\"\n",
       "            title=\"Suggest charts\"\n",
       "            style=\"display:none;\">\n",
       "\n",
       "<svg xmlns=\"http://www.w3.org/2000/svg\" height=\"24px\"viewBox=\"0 0 24 24\"\n",
       "     width=\"24px\">\n",
       "    <g>\n",
       "        <path d=\"M19 3H5c-1.1 0-2 .9-2 2v14c0 1.1.9 2 2 2h14c1.1 0 2-.9 2-2V5c0-1.1-.9-2-2-2zM9 17H7v-7h2v7zm4 0h-2V7h2v10zm4 0h-2v-4h2v4z\"/>\n",
       "    </g>\n",
       "</svg>\n",
       "  </button>\n",
       "\n",
       "<style>\n",
       "  .colab-df-quickchart {\n",
       "      --bg-color: #E8F0FE;\n",
       "      --fill-color: #1967D2;\n",
       "      --hover-bg-color: #E2EBFA;\n",
       "      --hover-fill-color: #174EA6;\n",
       "      --disabled-fill-color: #AAA;\n",
       "      --disabled-bg-color: #DDD;\n",
       "  }\n",
       "\n",
       "  [theme=dark] .colab-df-quickchart {\n",
       "      --bg-color: #3B4455;\n",
       "      --fill-color: #D2E3FC;\n",
       "      --hover-bg-color: #434B5C;\n",
       "      --hover-fill-color: #FFFFFF;\n",
       "      --disabled-bg-color: #3B4455;\n",
       "      --disabled-fill-color: #666;\n",
       "  }\n",
       "\n",
       "  .colab-df-quickchart {\n",
       "    background-color: var(--bg-color);\n",
       "    border: none;\n",
       "    border-radius: 50%;\n",
       "    cursor: pointer;\n",
       "    display: none;\n",
       "    fill: var(--fill-color);\n",
       "    height: 32px;\n",
       "    padding: 0;\n",
       "    width: 32px;\n",
       "  }\n",
       "\n",
       "  .colab-df-quickchart:hover {\n",
       "    background-color: var(--hover-bg-color);\n",
       "    box-shadow: 0 1px 2px rgba(60, 64, 67, 0.3), 0 1px 3px 1px rgba(60, 64, 67, 0.15);\n",
       "    fill: var(--button-hover-fill-color);\n",
       "  }\n",
       "\n",
       "  .colab-df-quickchart-complete:disabled,\n",
       "  .colab-df-quickchart-complete:disabled:hover {\n",
       "    background-color: var(--disabled-bg-color);\n",
       "    fill: var(--disabled-fill-color);\n",
       "    box-shadow: none;\n",
       "  }\n",
       "\n",
       "  .colab-df-spinner {\n",
       "    border: 2px solid var(--fill-color);\n",
       "    border-color: transparent;\n",
       "    border-bottom-color: var(--fill-color);\n",
       "    animation:\n",
       "      spin 1s steps(1) infinite;\n",
       "  }\n",
       "\n",
       "  @keyframes spin {\n",
       "    0% {\n",
       "      border-color: transparent;\n",
       "      border-bottom-color: var(--fill-color);\n",
       "      border-left-color: var(--fill-color);\n",
       "    }\n",
       "    20% {\n",
       "      border-color: transparent;\n",
       "      border-left-color: var(--fill-color);\n",
       "      border-top-color: var(--fill-color);\n",
       "    }\n",
       "    30% {\n",
       "      border-color: transparent;\n",
       "      border-left-color: var(--fill-color);\n",
       "      border-top-color: var(--fill-color);\n",
       "      border-right-color: var(--fill-color);\n",
       "    }\n",
       "    40% {\n",
       "      border-color: transparent;\n",
       "      border-right-color: var(--fill-color);\n",
       "      border-top-color: var(--fill-color);\n",
       "    }\n",
       "    60% {\n",
       "      border-color: transparent;\n",
       "      border-right-color: var(--fill-color);\n",
       "    }\n",
       "    80% {\n",
       "      border-color: transparent;\n",
       "      border-right-color: var(--fill-color);\n",
       "      border-bottom-color: var(--fill-color);\n",
       "    }\n",
       "    90% {\n",
       "      border-color: transparent;\n",
       "      border-bottom-color: var(--fill-color);\n",
       "    }\n",
       "  }\n",
       "</style>\n",
       "\n",
       "  <script>\n",
       "    async function quickchart(key) {\n",
       "      const quickchartButtonEl =\n",
       "        document.querySelector('#' + key + ' button');\n",
       "      quickchartButtonEl.disabled = true;  // To prevent multiple clicks.\n",
       "      quickchartButtonEl.classList.add('colab-df-spinner');\n",
       "      try {\n",
       "        const charts = await google.colab.kernel.invokeFunction(\n",
       "            'suggestCharts', [key], {});\n",
       "      } catch (error) {\n",
       "        console.error('Error during call to suggestCharts:', error);\n",
       "      }\n",
       "      quickchartButtonEl.classList.remove('colab-df-spinner');\n",
       "      quickchartButtonEl.classList.add('colab-df-quickchart-complete');\n",
       "    }\n",
       "    (() => {\n",
       "      let quickchartButtonEl =\n",
       "        document.querySelector('#df-d9c74463-c36c-49be-bcd0-ab9c44f02cae button');\n",
       "      quickchartButtonEl.style.display =\n",
       "        google.colab.kernel.accessAllowed ? 'block' : 'none';\n",
       "    })();\n",
       "  </script>\n",
       "</div>\n",
       "\n",
       "    </div>\n",
       "  </div>\n"
      ],
      "text/plain": [
       "   srno                          movie_name       genre  \\\n",
       "0     1       Oscar et la dame rose (2009)       drama    \n",
       "1     2                       Cupid (1997)    thriller    \n",
       "2     3   Young, Wild and Wonderful (1980)       adult    \n",
       "3     4              The Secret Sin (1915)       drama    \n",
       "4     5             The Unrecovered (2007)       drama    \n",
       "\n",
       "                                                                                                                                                                                                                                                                                                                                                                                                                                                                                                                                                                                                                                                                                                                                                                                                                                                                                                                                                                                                                                                                                                                         plot  \n",
       "0                                                                                                                                                                                                                                                                                                                                                                                                                                                                                                                                                           Listening in to a conversation between his doctor and parents, 10-year-old Oscar learns what nobody has the courage to tell him. He only has a few weeks to live. Furious, he refuses to speak to anyone except straight-talking Rose, the lady in pink he meets on the hospital stairs. As Christmas approaches, Rose uses her fantastical experiences as a professional wrestler, her imagination, wit and charm to allow Oscar to live life and love to the full, in the company of his friends Pop Corn, Einstein, Bacon and childhood sweetheart Peggy Blue.  \n",
       "1                                                                                                                                                                                                                                                                                                                                                                                                                                                                                                                                                                                                                                                                                                                                                                                                                                                                                                                                     A brother and sister with a past incestuous relationship have a current murderous relationship. He murders the women who reject him and she murders the women who get too close to him.  \n",
       "2                                                                                                                                                                                                                                                                                                                                                                                                                                                   As the bus empties the students for their field trip to the Museum of Natural History, little does the tour guide suspect that the students are there for more than just another tour. First, during the lecture films, the coeds drift into dreams of the most erotic fantasies one can imagine. After the films, they release the emotion of the fantasies in the most erotic and uncommon ways. One slips off to the curator's office for a little \"acquisition. \" Another finds the anthropologist to see what bones can be identified. Even the head teacher isn't immune. Soon the tour is over, but as the bus departs, everyone admits it was quite an education.  \n",
       "3   To help their unemployed father make ends meet, Edith and her twin sister Grace work as seamstresses . An invalid, Grace falls prey to the temptations of Chinatown opium and becomes an addict, a condition worsened by a misguided physician who prescribes morphine to ease her pain. When their father strikes oil, the family enjoys a new prosperity and the sisters meet the eligible Jack Herron, a fellow oil prospector. To Grace's shock, Jack falls in love with Edith and in her jealousy, Grace tells Jack that Edith, not she, has a drug problem. Hinting that her sister will soon need more morphine, Grace arranges for a dinner in Chinatown with the couple. While her sister and Jack dance, Grace slips away to an opium den. Edith follows her, but ends up in the wrong den and is arrested in an ensuing drug raid. After he bails her out of jail, Edith takes an angry Jack to search for Grace and stumbles across her half-conscious body lying in the street. The truth about the sisters is revealed, and after sending Grace to a sanitarium in the country, Jack and Edith are married.  \n",
       "4                                                                                                                                                                                                                                                                                                                                                                                                                                                                            The film's title refers not only to the un-recovered bodies at ground zero, but also to the state of the nation at large. Set in the hallucinatory period of time between September 11 and Halloween of 2001, The Unrecovered examines the effect of terror on the average mind, the way a state of heightened anxiety and/or alertness can cause the average person to make the sort of imaginative connections that are normally made only by artists and conspiracy theorists-both of whom figure prominently in this film. The Unrecovered explores the way in which irony, empathy, and paranoia relate to one another in the wake of 9/11.  "
      ]
     },
     "execution_count": 6,
     "metadata": {},
     "output_type": "execute_result"
    }
   ],
   "source": [
    "df_train.head()"
   ]
  },
  {
   "cell_type": "code",
   "execution_count": 7,
   "metadata": {
    "colab": {
     "base_uri": "https://localhost:8080/"
    },
    "id": "8q61VykFa1WU",
    "outputId": "0208f8ea-d3bc-4ff5-af94-d5c99b914312"
   },
   "outputs": [
    {
     "name": "stderr",
     "output_type": "stream",
     "text": [
      "[nltk_data] Downloading package punkt to /root/nltk_data...\n",
      "[nltk_data]   Unzipping tokenizers/punkt.zip.\n"
     ]
    },
    {
     "name": "stdout",
     "output_type": "stream",
     "text": [
      "listening conversation doctor parents yearold oscar learns nobody courage tell weeks live furious refuses speak anyone except straighttalking rose lady pink meets hospital stairs christmas approaches rose uses fantastical experiences professional wrestler imagination wit charm allow oscar live life love full company friends pop corn einstein bacon childhood sweetheart peggy blue\n"
     ]
    }
   ],
   "source": [
    "import nltk\n",
    "nltk.download('punkt')\n",
    "print(clean(df_train['plot'][0]))\n"
   ]
  },
  {
   "cell_type": "code",
   "execution_count": 8,
   "metadata": {
    "id": "oIzcNBfgcbBC"
   },
   "outputs": [],
   "source": [
    "# Applying the cleaning function to the entire column\n",
    "df_train['processed_plot'] = df_train['plot'].apply(clean)\n",
    "df_test['processed_plot'] = df_test['plot'].apply(clean)"
   ]
  },
  {
   "cell_type": "code",
   "execution_count": 9,
   "metadata": {
    "colab": {
     "base_uri": "https://localhost:8080/"
    },
    "id": "CytmnNc3cnNA",
    "outputId": "35c74b61-e8a9-40fb-bef7-9101e0a16f5a"
   },
   "outputs": [
    {
     "name": "stdout",
     "output_type": "stream",
     "text": [
      "(108400,)\n"
     ]
    }
   ],
   "source": [
    "df_train['input'] = df_train['movie_name'] + \" \" + df_train['processed_plot']\n",
    "df_test['input'] = df_test['movie_name'] + \" \" + df_test['processed_plot']\n",
    "\n",
    "all_text = pd.concat([df_train['input'], df_test['input']])\n",
    "print(all_text.shape)\n"
   ]
  },
  {
   "cell_type": "code",
   "execution_count": 10,
   "metadata": {
    "colab": {
     "base_uri": "https://localhost:8080/"
    },
    "id": "dZ2cY4RWgC4N",
    "outputId": "7e4d0e5b-833d-4406-9288-8c5ccc9df29e"
   },
   "outputs": [
    {
     "name": "stdout",
     "output_type": "stream",
     "text": [
      "Average length of the text before cleaning in training data 600.4387638376384\n",
      "Average length of the text after cleaning in training data 410.1318450184502\n"
     ]
    }
   ],
   "source": [
    "length=(df_train['plot'].apply(lambda x: len(str(x)))).mean()\n",
    "cleaned_length = (df_train['processed_plot'].apply(lambda x: len(str(x)))).mean()\n",
    "\n",
    "print(\"Average length of the text before cleaning in training data\", length)\n",
    "print(\"Average length of the text after cleaning in training data\", cleaned_length)"
   ]
  },
  {
   "cell_type": "code",
   "execution_count": 11,
   "metadata": {
    "colab": {
     "base_uri": "https://localhost:8080/",
     "height": 410
    },
    "id": "RNnYR0z5gmsy",
    "outputId": "3575e107-fcc4-431e-d014-5b75d95144cd"
   },
   "outputs": [
    {
     "data": {
      "image/png": "[encoded data removed]",
      "text/plain": [
       "<Figure size 800x400 with 1 Axes>"
      ]
     },
     "metadata": {},
     "output_type": "display_data"
    }
   ],
   "source": [
    "import matplotlib.pyplot as plt\n",
    "\n",
    "# List of values and labels\n",
    "values = [length, cleaned_length]\n",
    "labels = ['Old', 'New']\n",
    "\n",
    "# Plotting the bar graph\n",
    "plt.figure(figsize=(8, 4))\n",
    "plt.bar(labels, values, color=['red', 'green'])\n",
    "plt.xlabel(\"Type of data\")\n",
    "plt.ylabel(\"Average Length\")\n",
    "plt.title(\"Length of text data before and after cleaning of train data\")\n",
    "plt.show()\n"
   ]
  },
  {
   "cell_type": "code",
   "execution_count": 12,
   "metadata": {
    "id": "iUkNlzORhBMO"
   },
   "outputs": [],
   "source": [
    "df_train [\"processed_plot\"] = df_train[\"processed_plot\"].apply(lambda x: x[:np.random.randint(250,2000)] if len(x)>2000 else x)"
   ]
  },
  {
   "cell_type": "code",
   "execution_count": 13,
   "metadata": {
    "colab": {
     "base_uri": "https://localhost:8080/",
     "height": 70
    },
    "id": "NL08dMO6icaj",
    "outputId": "a2d43d97-da73-4e90-ed06-fe4fd4cd95a3"
   },
   "outputs": [
    {
     "data": {
      "application/vnd.google.colaboratory.intrinsic+json": {
       "type": "string"
      },
      "text/plain": [
       "'listening conversation doctor parents yearold oscar learns nobody courage tell weeks live furious refuses speak anyone except straighttalking rose lady pink meets hospital stairs christmas approaches rose uses fantastical experiences professional wrestler imagination wit charm allow oscar live life love full company friends pop corn einstein bacon childhood sweetheart peggy blue'"
      ]
     },
     "execution_count": 13,
     "metadata": {},
     "output_type": "execute_result"
    }
   ],
   "source": [
    "df_train['processed_plot'] [0]"
   ]
  },
  {
   "cell_type": "code",
   "execution_count": 14,
   "metadata": {
    "id": "CEpMA0w0icdt"
   },
   "outputs": [],
   "source": [
    "labels_info = df_train['genre'].value_counts()"
   ]
  },
  {
   "cell_type": "code",
   "execution_count": 15,
   "metadata": {
    "colab": {
     "base_uri": "https://localhost:8080/",
     "height": 651
    },
    "id": "1MLeeYSFichG",
    "outputId": "f48619b1-fe82-4172-e9c3-ec326b7fd773"
   },
   "outputs": [
    {
     "data": {
      "image/png": "[encoded data removed]",
      "text/plain": [
       "<Figure size 1000x600 with 1 Axes>"
      ]
     },
     "metadata": {},
     "output_type": "display_data"
    }
   ],
   "source": [
    "import matplotlib.pyplot as plt\n",
    "\n",
    "# Plotting the bar graph\n",
    "plt.figure(figsize=(10, 6))\n",
    "labels_info.plot(kind='bar', color=\"orange\")\n",
    "plt.ylabel('Frequency')\n",
    "plt.title(\"Per Genre Distribution\")\n",
    "plt.show()\n"
   ]
  },
  {
   "cell_type": "markdown",
   "metadata": {
    "id": "qRZ4zHniKwhM"
   },
   "source": [
    "Merging Movie Name And PLOT together"
   ]
  },
  {
   "cell_type": "code",
   "execution_count": 16,
   "metadata": {
    "colab": {
     "base_uri": "https://localhost:8080/",
     "height": 355
    },
    "id": "O4xtxjD8jnmt",
    "outputId": "1830bd0e-b575-4c9a-ecf6-e672526b382d"
   },
   "outputs": [
    {
     "data": {
      "application/vnd.google.colaboratory.intrinsic+json": {
       "summary": "{\n  \"name\": \"df_train\",\n  \"rows\": 54200,\n  \"fields\": [\n    {\n      \"column\": \"srno\",\n      \"properties\": {\n        \"dtype\": \"number\",\n        \"std\": 15646,\n        \"min\": 1,\n        \"max\": 54200,\n        \"num_unique_values\": 54200,\n        \"samples\": [\n          7723,\n          3190,\n          927\n        ],\n        \"semantic_type\": \"\",\n        \"description\": \"\"\n      }\n    },\n    {\n      \"column\": \"movie_name\",\n      \"properties\": {\n        \"dtype\": \"string\",\n        \"num_unique_values\": 54200,\n        \"samples\": [\n          \" \\\"Madhu Ethe Ani Chandra Tithe\\\" (2011) \",\n          \" Exit (2005/III) \",\n          \" El camino (2008/III) \"\n        ],\n        \"semantic_type\": \"\",\n        \"description\": \"\"\n      }\n    },\n    {\n      \"column\": \"genre\",\n      \"properties\": {\n        \"dtype\": \"category\",\n        \"num_unique_values\": 27,\n        \"samples\": [\n          \" sport \",\n          \" sci-fi \",\n          \" animation \"\n        ],\n        \"semantic_type\": \"\",\n        \"description\": \"\"\n      }\n    },\n    {\n      \"column\": \"plot\",\n      \"properties\": {\n        \"dtype\": \"string\",\n        \"num_unique_values\": 54072,\n        \"samples\": [\n          \" It is the small hours at City Radio everyone is tired and tetchy. Steve goes to get Pizza, Eddie throws his weight around, Conchita tries to hold it all together and late night callers report seeing strange things. When Steve returns with the pizza's things will never be the same again.\",\n          \" Various locations on the surface of the earth have acquired a legendary reputation for being entrances to the underworld. In Ashe County, North Carolina residents have reported all manner of ghostly phenomena including apparitions of women, sounds of crying babies and phantom hitchhikers, one of which may have been none other than Lucifer himself. When Roxanne Wentworth purchased a beautiful set of iron gates from a local cemetery, she unknowingly turned her property into a gateway to the beyond. Paranormal events are now chronicled on a nightly basis. In Wilmington, North Carolina, Gallows Hill (which was once the city's hanging ground) is now a commercial office. Though the gallows are long gone, the unclaimed bodies of countless poor souls who hit the end of a rope are still buried in mass graves. These restless spirits continue to walk the grounds, and hallways of the property. The spirits of those executed are angry and to this day nobody has successfully spent a night alone in the house on Gallows Hill, though many have tried. Explore these encounters and more as we journey into the realms of the Paranormal and Supernatural.\",\n          \" Felix from West-Berlin falls in love with Thomas in East-Berlin. At first they keep their relationship going by regular visits from Felix, but the curfew forces him to return every evening. When the East-German authorities become suspicious, Thomas decides to try and flee to the West.\"\n        ],\n        \"semantic_type\": \"\",\n        \"description\": \"\"\n      }\n    },\n    {\n      \"column\": \"processed_plot\",\n      \"properties\": {\n        \"dtype\": \"string\",\n        \"num_unique_values\": 54063,\n        \"samples\": [\n          \"margarit beloved daughter millionaire oilman andreas elizbarov shes love young artashes otaryan son elizbarovs late companion soon artashes reveals secret family kept years elizbarov stoled fortune former companion prove presents elizbarovs letters father\",\n          \"gattu battu story two friends security agency vishrampur battu assumes brains team patient loyal friend gattu real hero saving duo battus silly antics battus mindless goofups coupled gattus hilarious yet brilliant coverups forms heart soul series\",\n          \"set backdrop science sexual politics prominent boston massachusetts institute technology breaking symmetry tells dramatic story happens brilliant young astrophysics professor discovers video tape holding secrets revolutionary energy technology unsolved murder another professor\"\n        ],\n        \"semantic_type\": \"\",\n        \"description\": \"\"\n      }\n    },\n    {\n      \"column\": \"input\",\n      \"properties\": {\n        \"dtype\": \"string\",\n        \"num_unique_values\": 54200,\n        \"samples\": [\n          \" \\\"Madhu Ethe Ani Chandra Tithe\\\" (2011)  gauri mukta barve village belle married city boy gauris fatherinlaw fathers best friend tells gauri always wanted son siddhant swapnil joshi marry tells gauri siddhant obsessed earning money care much relationships asks gauri try make siddhant realize importance relationship gauri siddhant honeymoon hotel siddhant welcomed hotels manager sachin gauri comes introduces sachin sachin realizes mistaken siddhant rich industrialist akhilesh shastri sachin changes tone gauri treats hotel bell boy brother siddhant shocked gauri makes siddhant understand bell boy human siddhant tells talks sweetly people swindle siddhant blames gauri knowing behave people siddhant tells working project gauri tries tell come celebrate honeymoon siddhant wants impress akhilesh staying hotel gauris aunt manda comes meet hotel room siddhant bugged gauris aunt boisterous ways later siddhant gets project ready finds akhilesh hotel lobby fight man lobby trivial issue siddhant tells akhilesh proposal wants show akhilesh tells siddhant take appointment man fought siddhant screams gauri goes back room gauri asks wrong siddhant tells akhilesh fought gauri assures definitely get appointment gauri takes siddhant laundry room siddhant speaks rudely bell boy gauri speaks sweetly bell boy asks help bell boy tells gauri found habits tells idea getting siddhants name pas diary says write siddhants name diary bell boy tells siddhant money love shown gauri siddhant skeptical overjoyed gets appointment siddhant asks gauri accompany meeting akhilesh comes lunch siddhant gauri akhileshs shocked see siddhant siddhant nervous speak well akhilesh akhilesh asks relax speak proposal gauri speaks akhilesh praising siddhants hard work fortunately akhilesh turns belong part state gauri hails akhilesh praises gauri congratulates siddhant loving wife akhilesh agrees work proposal asks siddhant new zealand akhilesh asks siddhant send gauri home siddhant watches way gauri gets ready send siddhant new zealand gauri even packs siddhants bag siddhant calls akhilesh tells new zealand gauri wonders siddhant replies love wife taught relationships important money\",\n          \" Exit (2005/III)  switzerland country world associations exit quite legally provide suicide assistance people end lives twenty years volunteers accompanied sick handicapped people towards death choice seems dignified documentary escorts people accompany tackle death headon like taboo unacceptable end like release society tending control everything refer back quintessential intimate question choosing death ultimate freedom\",\n          \" El camino (2008/III)  elliot product washington foster care system spent life moving place place contacted matthew childhood friend system dying cancer elliot goes side funeral meets gray lily two friends matthew aimless present lives motivated sense loss personal anger gray lily elliot steal matthews ashes take mexico three travelers journey crosscountry matthews urn tow forced confront sense family identity future set changing american landscape camino follows characters search country lost identity gray wayward son prominent family left pregnant girlfriend angry volatile fearful commitment lily matthews exgirlfriend unbeknownst parents dropped college become exotic dancer lost alcohol pills longs mothers approval elliot outside cultural mainstream carries suitcase filled documents mementos life explorer human experience interviews videotapes people meets haunted dreams mothers drowning elliot struggles find place world camino humorous compassionate film friendship family search self todays american landscape\"\n        ],\n        \"semantic_type\": \"\",\n        \"description\": \"\"\n      }\n    }\n  ]\n}",
       "type": "dataframe",
       "variable_name": "df_train"
      },
      "text/html": [
       "\n",
       "  <div id=\"df-f8e999e8-2e6b-4f45-b429-54e8aaa2bc20\" class=\"colab-df-container\">\n",
       "    <div>\n",
       "<style scoped>\n",
       "    .dataframe tbody tr th:only-of-type {\n",
       "        vertical-align: middle;\n",
       "    }\n",
       "\n",
       "    .dataframe tbody tr th {\n",
       "        vertical-align: top;\n",
       "    }\n",
       "\n",
       "    .dataframe thead th {\n",
       "        text-align: right;\n",
       "    }\n",
       "</style>\n",
       "<table border=\"1\" class=\"dataframe\">\n",
       "  <thead>\n",
       "    <tr style=\"text-align: right;\">\n",
       "      <th></th>\n",
       "      <th>srno</th>\n",
       "      <th>movie_name</th>\n",
       "      <th>genre</th>\n",
       "      <th>plot</th>\n",
       "      <th>processed_plot</th>\n",
       "      <th>input</th>\n",
       "    </tr>\n",
       "  </thead>\n",
       "  <tbody>\n",
       "    <tr>\n",
       "      <th>0</th>\n",
       "      <td>1</td>\n",
       "      <td>Oscar et la dame rose (2009)</td>\n",
       "      <td>drama</td>\n",
       "      <td>Listening in to a conversation between his doctor and parents, 10-year-old Oscar learns what nobody has the courage to tell him. He only has a few weeks to live. Furious, he refuses to speak to anyone except straight-talking Rose, the lady in pink he meets on the hospital stairs. As Christmas approaches, Rose uses her fantastical experiences as a professional wrestler, her imagination, wit and charm to allow Oscar to live life and love to the full, in the company of his friends Pop Corn, Einstein, Bacon and childhood sweetheart Peggy Blue.</td>\n",
       "      <td>listening conversation doctor parents yearold oscar learns nobody courage tell weeks live furious refuses speak anyone except straighttalking rose lady pink meets hospital stairs christmas approaches rose uses fantastical experiences professional wrestler imagination wit charm allow oscar live life love full company friends pop corn einstein bacon childhood sweetheart peggy blue</td>\n",
       "      <td>Oscar et la dame rose (2009)  listening conversation doctor parents yearold oscar learns nobody courage tell weeks live furious refuses speak anyone except straighttalking rose lady pink meets hospital stairs christmas approaches rose uses fantastical experiences professional wrestler imagination wit charm allow oscar live life love full company friends pop corn einstein bacon childhood sweetheart peggy blue</td>\n",
       "    </tr>\n",
       "    <tr>\n",
       "      <th>1</th>\n",
       "      <td>2</td>\n",
       "      <td>Cupid (1997)</td>\n",
       "      <td>thriller</td>\n",
       "      <td>A brother and sister with a past incestuous relationship have a current murderous relationship. He murders the women who reject him and she murders the women who get too close to him.</td>\n",
       "      <td>brother sister past incestuous relationship current murderous relationship murders women reject murders women get close</td>\n",
       "      <td>Cupid (1997)  brother sister past incestuous relationship current murderous relationship murders women reject murders women get close</td>\n",
       "    </tr>\n",
       "  </tbody>\n",
       "</table>\n",
       "</div>\n",
       "    <div class=\"colab-df-buttons\">\n",
       "\n",
       "  <div class=\"colab-df-container\">\n",
       "    <button class=\"colab-df-convert\" onclick=\"convertToInteractive('df-f8e999e8-2e6b-4f45-b429-54e8aaa2bc20')\"\n",
       "            title=\"Convert this dataframe to an interactive table.\"\n",
       "            style=\"display:none;\">\n",
       "\n",
       "  <svg xmlns=\"http://www.w3.org/2000/svg\" height=\"24px\" viewBox=\"0 -960 960 960\">\n",
       "    <path d=\"M120-120v-720h720v720H120Zm60-500h600v-160H180v160Zm220 220h160v-160H400v160Zm0 220h160v-160H400v160ZM180-400h160v-160H180v160Zm440 0h160v-160H620v160ZM180-180h160v-160H180v160Zm440 0h160v-160H620v160Z\"/>\n",
       "  </svg>\n",
       "    </button>\n",
       "\n",
       "  <style>\n",
       "    .colab-df-container {\n",
       "      display:flex;\n",
       "      gap: 12px;\n",
       "    }\n",
       "\n",
       "    .colab-df-convert {\n",
       "      background-color: #E8F0FE;\n",
       "      border: none;\n",
       "      border-radius: 50%;\n",
       "      cursor: pointer;\n",
       "      display: none;\n",
       "      fill: #1967D2;\n",
       "      height: 32px;\n",
       "      padding: 0 0 0 0;\n",
       "      width: 32px;\n",
       "    }\n",
       "\n",
       "    .colab-df-convert:hover {\n",
       "      background-color: #E2EBFA;\n",
       "      box-shadow: 0px 1px 2px rgba(60, 64, 67, 0.3), 0px 1px 3px 1px rgba(60, 64, 67, 0.15);\n",
       "      fill: #174EA6;\n",
       "    }\n",
       "\n",
       "    .colab-df-buttons div {\n",
       "      margin-bottom: 4px;\n",
       "    }\n",
       "\n",
       "    [theme=dark] .colab-df-convert {\n",
       "      background-color: #3B4455;\n",
       "      fill: #D2E3FC;\n",
       "    }\n",
       "\n",
       "    [theme=dark] .colab-df-convert:hover {\n",
       "      background-color: #434B5C;\n",
       "      box-shadow: 0px 1px 3px 1px rgba(0, 0, 0, 0.15);\n",
       "      filter: drop-shadow(0px 1px 2px rgba(0, 0, 0, 0.3));\n",
       "      fill: #FFFFFF;\n",
       "    }\n",
       "  </style>\n",
       "\n",
       "    <script>\n",
       "      const buttonEl =\n",
       "        document.querySelector('#df-f8e999e8-2e6b-4f45-b429-54e8aaa2bc20 button.colab-df-convert');\n",
       "      buttonEl.style.display =\n",
       "        google.colab.kernel.accessAllowed ? 'block' : 'none';\n",
       "\n",
       "      async function convertToInteractive(key) {\n",
       "        const element = document.querySelector('#df-f8e999e8-2e6b-4f45-b429-54e8aaa2bc20');\n",
       "        const dataTable =\n",
       "          await google.colab.kernel.invokeFunction('convertToInteractive',\n",
       "                                                    [key], {});\n",
       "        if (!dataTable) return;\n",
       "\n",
       "        const docLinkHtml = 'Like what you see? Visit the ' +\n",
       "          '<a target=\"_blank\" href=https://colab.research.google.com/notebooks/data_table.ipynb>data table notebook</a>'\n",
       "          + ' to learn more about interactive tables.';\n",
       "        element.innerHTML = '';\n",
       "        dataTable['output_type'] = 'display_data';\n",
       "        await google.colab.output.renderOutput(dataTable, element);\n",
       "        const docLink = document.createElement('div');\n",
       "        docLink.innerHTML = docLinkHtml;\n",
       "        element.appendChild(docLink);\n",
       "      }\n",
       "    </script>\n",
       "  </div>\n",
       "\n",
       "\n",
       "<div id=\"df-f72eda4f-65a4-488c-8f52-7a5eaf03875e\">\n",
       "  <button class=\"colab-df-quickchart\" onclick=\"quickchart('df-f72eda4f-65a4-488c-8f52-7a5eaf03875e')\"\n",
       "            title=\"Suggest charts\"\n",
       "            style=\"display:none;\">\n",
       "\n",
       "<svg xmlns=\"http://www.w3.org/2000/svg\" height=\"24px\"viewBox=\"0 0 24 24\"\n",
       "     width=\"24px\">\n",
       "    <g>\n",
       "        <path d=\"M19 3H5c-1.1 0-2 .9-2 2v14c0 1.1.9 2 2 2h14c1.1 0 2-.9 2-2V5c0-1.1-.9-2-2-2zM9 17H7v-7h2v7zm4 0h-2V7h2v10zm4 0h-2v-4h2v4z\"/>\n",
       "    </g>\n",
       "</svg>\n",
       "  </button>\n",
       "\n",
       "<style>\n",
       "  .colab-df-quickchart {\n",
       "      --bg-color: #E8F0FE;\n",
       "      --fill-color: #1967D2;\n",
       "      --hover-bg-color: #E2EBFA;\n",
       "      --hover-fill-color: #174EA6;\n",
       "      --disabled-fill-color: #AAA;\n",
       "      --disabled-bg-color: #DDD;\n",
       "  }\n",
       "\n",
       "  [theme=dark] .colab-df-quickchart {\n",
       "      --bg-color: #3B4455;\n",
       "      --fill-color: #D2E3FC;\n",
       "      --hover-bg-color: #434B5C;\n",
       "      --hover-fill-color: #FFFFFF;\n",
       "      --disabled-bg-color: #3B4455;\n",
       "      --disabled-fill-color: #666;\n",
       "  }\n",
       "\n",
       "  .colab-df-quickchart {\n",
       "    background-color: var(--bg-color);\n",
       "    border: none;\n",
       "    border-radius: 50%;\n",
       "    cursor: pointer;\n",
       "    display: none;\n",
       "    fill: var(--fill-color);\n",
       "    height: 32px;\n",
       "    padding: 0;\n",
       "    width: 32px;\n",
       "  }\n",
       "\n",
       "  .colab-df-quickchart:hover {\n",
       "    background-color: var(--hover-bg-color);\n",
       "    box-shadow: 0 1px 2px rgba(60, 64, 67, 0.3), 0 1px 3px 1px rgba(60, 64, 67, 0.15);\n",
       "    fill: var(--button-hover-fill-color);\n",
       "  }\n",
       "\n",
       "  .colab-df-quickchart-complete:disabled,\n",
       "  .colab-df-quickchart-complete:disabled:hover {\n",
       "    background-color: var(--disabled-bg-color);\n",
       "    fill: var(--disabled-fill-color);\n",
       "    box-shadow: none;\n",
       "  }\n",
       "\n",
       "  .colab-df-spinner {\n",
       "    border: 2px solid var(--fill-color);\n",
       "    border-color: transparent;\n",
       "    border-bottom-color: var(--fill-color);\n",
       "    animation:\n",
       "      spin 1s steps(1) infinite;\n",
       "  }\n",
       "\n",
       "  @keyframes spin {\n",
       "    0% {\n",
       "      border-color: transparent;\n",
       "      border-bottom-color: var(--fill-color);\n",
       "      border-left-color: var(--fill-color);\n",
       "    }\n",
       "    20% {\n",
       "      border-color: transparent;\n",
       "      border-left-color: var(--fill-color);\n",
       "      border-top-color: var(--fill-color);\n",
       "    }\n",
       "    30% {\n",
       "      border-color: transparent;\n",
       "      border-left-color: var(--fill-color);\n",
       "      border-top-color: var(--fill-color);\n",
       "      border-right-color: var(--fill-color);\n",
       "    }\n",
       "    40% {\n",
       "      border-color: transparent;\n",
       "      border-right-color: var(--fill-color);\n",
       "      border-top-color: var(--fill-color);\n",
       "    }\n",
       "    60% {\n",
       "      border-color: transparent;\n",
       "      border-right-color: var(--fill-color);\n",
       "    }\n",
       "    80% {\n",
       "      border-color: transparent;\n",
       "      border-right-color: var(--fill-color);\n",
       "      border-bottom-color: var(--fill-color);\n",
       "    }\n",
       "    90% {\n",
       "      border-color: transparent;\n",
       "      border-bottom-color: var(--fill-color);\n",
       "    }\n",
       "  }\n",
       "</style>\n",
       "\n",
       "  <script>\n",
       "    async function quickchart(key) {\n",
       "      const quickchartButtonEl =\n",
       "        document.querySelector('#' + key + ' button');\n",
       "      quickchartButtonEl.disabled = true;  // To prevent multiple clicks.\n",
       "      quickchartButtonEl.classList.add('colab-df-spinner');\n",
       "      try {\n",
       "        const charts = await google.colab.kernel.invokeFunction(\n",
       "            'suggestCharts', [key], {});\n",
       "      } catch (error) {\n",
       "        console.error('Error during call to suggestCharts:', error);\n",
       "      }\n",
       "      quickchartButtonEl.classList.remove('colab-df-spinner');\n",
       "      quickchartButtonEl.classList.add('colab-df-quickchart-complete');\n",
       "    }\n",
       "    (() => {\n",
       "      let quickchartButtonEl =\n",
       "        document.querySelector('#df-f72eda4f-65a4-488c-8f52-7a5eaf03875e button');\n",
       "      quickchartButtonEl.style.display =\n",
       "        google.colab.kernel.accessAllowed ? 'block' : 'none';\n",
       "    })();\n",
       "  </script>\n",
       "</div>\n",
       "\n",
       "    </div>\n",
       "  </div>\n"
      ],
      "text/plain": [
       "   srno                      movie_name       genre  \\\n",
       "0     1   Oscar et la dame rose (2009)       drama    \n",
       "1     2                   Cupid (1997)    thriller    \n",
       "\n",
       "                                                                                                                                                                                                                                                                                                                                                                                                                                                                                                                                                                 plot  \\\n",
       "0   Listening in to a conversation between his doctor and parents, 10-year-old Oscar learns what nobody has the courage to tell him. He only has a few weeks to live. Furious, he refuses to speak to anyone except straight-talking Rose, the lady in pink he meets on the hospital stairs. As Christmas approaches, Rose uses her fantastical experiences as a professional wrestler, her imagination, wit and charm to allow Oscar to live life and love to the full, in the company of his friends Pop Corn, Einstein, Bacon and childhood sweetheart Peggy Blue.   \n",
       "1                                                                                                                                                                                                                                                                                                                                                                             A brother and sister with a past incestuous relationship have a current murderous relationship. He murders the women who reject him and she murders the women who get too close to him.   \n",
       "\n",
       "                                                                                                                                                                                                                                                                                                                                                                                  processed_plot  \\\n",
       "0  listening conversation doctor parents yearold oscar learns nobody courage tell weeks live furious refuses speak anyone except straighttalking rose lady pink meets hospital stairs christmas approaches rose uses fantastical experiences professional wrestler imagination wit charm allow oscar live life love full company friends pop corn einstein bacon childhood sweetheart peggy blue   \n",
       "1                                                                                                                                                                                                                                                                        brother sister past incestuous relationship current murderous relationship murders women reject murders women get close   \n",
       "\n",
       "                                                                                                                                                                                                                                                                                                                                                                                                                          input  \n",
       "0   Oscar et la dame rose (2009)  listening conversation doctor parents yearold oscar learns nobody courage tell weeks live furious refuses speak anyone except straighttalking rose lady pink meets hospital stairs christmas approaches rose uses fantastical experiences professional wrestler imagination wit charm allow oscar live life love full company friends pop corn einstein bacon childhood sweetheart peggy blue  \n",
       "1                                                                                                                                                                                                                                                                                         Cupid (1997)  brother sister past incestuous relationship current murderous relationship murders women reject murders women get close  "
      ]
     },
     "execution_count": 16,
     "metadata": {},
     "output_type": "execute_result"
    }
   ],
   "source": [
    "df_train.head(2)"
   ]
  },
  {
   "cell_type": "code",
   "execution_count": 17,
   "metadata": {
    "id": "1_ygSm3GjnjF"
   },
   "outputs": [],
   "source": [
    "df_train.drop(columns=['plot'], inplace=True)"
   ]
  },
  {
   "cell_type": "code",
   "execution_count": 18,
   "metadata": {
    "id": "dS3bxowojngp"
   },
   "outputs": [],
   "source": [
    "df_test.drop(columns=['plot'], inplace=True)"
   ]
  },
  {
   "cell_type": "code",
   "execution_count": 19,
   "metadata": {
    "id": "0_OPSh14jnTK"
   },
   "outputs": [],
   "source": [
    "df_train['input'] = df_train['movie_name']+\" \"+df_train['processed_plot']\n",
    "df_test['input'] = df_test['movie_name'] + \" \"+ df_test['processed_plot']"
   ]
  },
  {
   "cell_type": "code",
   "execution_count": 20,
   "metadata": {
    "colab": {
     "base_uri": "https://localhost:8080/",
     "height": 410
    },
    "id": "UwjXUHoqknXr",
    "outputId": "6debd474-b890-4533-b6c0-280e17e77281"
   },
   "outputs": [
    {
     "data": {
      "application/vnd.google.colaboratory.intrinsic+json": {
       "summary": "{\n  \"name\": \"df_train\",\n  \"rows\": 1,\n  \"fields\": [\n    {\n      \"column\": \"srno\",\n      \"properties\": {\n        \"dtype\": \"number\",\n        \"std\": null,\n        \"min\": 23367,\n        \"max\": 23367,\n        \"num_unique_values\": 1,\n        \"samples\": [\n          23367\n        ],\n        \"semantic_type\": \"\",\n        \"description\": \"\"\n      }\n    },\n    {\n      \"column\": \"movie_name\",\n      \"properties\": {\n        \"dtype\": \"string\",\n        \"num_unique_values\": 1,\n        \"samples\": [\n          \" Il mistero di Lovecraft - Road to L. (2005) \"\n        ],\n        \"semantic_type\": \"\",\n        \"description\": \"\"\n      }\n    },\n    {\n      \"column\": \"genre\",\n      \"properties\": {\n        \"dtype\": \"string\",\n        \"num_unique_values\": 1,\n        \"samples\": [\n          \" thriller \"\n        ],\n        \"semantic_type\": \"\",\n        \"description\": \"\"\n      }\n    },\n    {\n      \"column\": \"processed_plot\",\n      \"properties\": {\n        \"dtype\": \"string\",\n        \"num_unique_values\": 1,\n        \"samples\": [\n          \"student folklore named andrea roberti hypothesizes possible link horror literature lovecraft dark folk tales delta mysterious remote part northern italy one directors film comes across manuscript montecatini italy may belonged american writer journal dated describes travels italy delta search inspiration form local folk stories fil\\u0148 tales small tough crew international filmmakers put together help david new york actor make documentary finding journal links lovecraft delta manuscript really belong lovecraft would extraordinary discovery soon begin however filmmakers find andrea roberti disappeared mysterious circumstances many years car found abandoned banks crew sets base town loreo referred simply manuscript author journal investigations atmosphere animosity foreboding rises soon discover strange disturbing things happening area events locals eager keep secret film road true account took place behind scenes day shoot reporting failures revelations experienced came resemble ever journey hell lovecraft really come contact something sinister andrea roberti stumble across something wasnt meant find documentary makers stepping far unknown\"\n        ],\n        \"semantic_type\": \"\",\n        \"description\": \"\"\n      }\n    },\n    {\n      \"column\": \"input\",\n      \"properties\": {\n        \"dtype\": \"string\",\n        \"num_unique_values\": 1,\n        \"samples\": [\n          \" Il mistero di Lovecraft - Road to L. (2005)  student folklore named andrea roberti hypothesizes possible link horror literature lovecraft dark folk tales delta mysterious remote part northern italy one directors film comes across manuscript montecatini italy may belonged american writer journal dated describes travels italy delta search inspiration form local folk stories fil\\u0148 tales small tough crew international filmmakers put together help david new york actor make documentary finding journal links lovecraft delta manuscript really belong lovecraft would extraordinary discovery soon begin however filmmakers find andrea roberti disappeared mysterious circumstances many years car found abandoned banks crew sets base town loreo referred simply manuscript author journal investigations atmosphere animosity foreboding rises soon discover strange disturbing things happening area events locals eager keep secret film road true account took place behind scenes day shoot reporting failures revelations experienced came resemble ever journey hell lovecraft really come contact something sinister andrea roberti stumble across something wasnt meant find documentary makers stepping far unknown\"\n        ],\n        \"semantic_type\": \"\",\n        \"description\": \"\"\n      }\n    }\n  ]\n}",
       "type": "dataframe"
      },
      "text/html": [
       "\n",
       "  <div id=\"df-85efe449-d22e-4dba-8214-3203e5fd714c\" class=\"colab-df-container\">\n",
       "    <div>\n",
       "<style scoped>\n",
       "    .dataframe tbody tr th:only-of-type {\n",
       "        vertical-align: middle;\n",
       "    }\n",
       "\n",
       "    .dataframe tbody tr th {\n",
       "        vertical-align: top;\n",
       "    }\n",
       "\n",
       "    .dataframe thead th {\n",
       "        text-align: right;\n",
       "    }\n",
       "</style>\n",
       "<table border=\"1\" class=\"dataframe\">\n",
       "  <thead>\n",
       "    <tr style=\"text-align: right;\">\n",
       "      <th></th>\n",
       "      <th>srno</th>\n",
       "      <th>movie_name</th>\n",
       "      <th>genre</th>\n",
       "      <th>processed_plot</th>\n",
       "      <th>input</th>\n",
       "    </tr>\n",
       "  </thead>\n",
       "  <tbody>\n",
       "    <tr>\n",
       "      <th>23366</th>\n",
       "      <td>23367</td>\n",
       "      <td>Il mistero di Lovecraft - Road to L. (2005)</td>\n",
       "      <td>thriller</td>\n",
       "      <td>student folklore named andrea roberti hypothesizes possible link horror literature lovecraft dark folk tales delta mysterious remote part northern italy one directors film comes across manuscript montecatini italy may belonged american writer journal dated describes travels italy delta search inspiration form local folk stories filň tales small tough crew international filmmakers put together help david new york actor make documentary finding journal links lovecraft delta manuscript really belong lovecraft would extraordinary discovery soon begin however filmmakers find andrea roberti disappeared mysterious circumstances many years car found abandoned banks crew sets base town loreo referred simply manuscript author journal investigations atmosphere animosity foreboding rises soon discover strange disturbing things happening area events locals eager keep secret film road true account took place behind scenes day shoot reporting failures revelations experienced came resemble ever journey hell lovecraft really come contact something sinister andrea roberti stumble across something wasnt meant find documentary makers stepping far unknown</td>\n",
       "      <td>Il mistero di Lovecraft - Road to L. (2005)  student folklore named andrea roberti hypothesizes possible link horror literature lovecraft dark folk tales delta mysterious remote part northern italy one directors film comes across manuscript montecatini italy may belonged american writer journal dated describes travels italy delta search inspiration form local folk stories filň tales small tough crew international filmmakers put together help david new york actor make documentary finding journal links lovecraft delta manuscript really belong lovecraft would extraordinary discovery soon begin however filmmakers find andrea roberti disappeared mysterious circumstances many years car found abandoned banks crew sets base town loreo referred simply manuscript author journal investigations atmosphere animosity foreboding rises soon discover strange disturbing things happening area events locals eager keep secret film road true account took place behind scenes day shoot reporting failures revelations experienced came resemble ever journey hell lovecraft really come contact something sinister andrea roberti stumble across something wasnt meant find documentary makers stepping far unknown</td>\n",
       "    </tr>\n",
       "  </tbody>\n",
       "</table>\n",
       "</div>\n",
       "    <div class=\"colab-df-buttons\">\n",
       "\n",
       "  <div class=\"colab-df-container\">\n",
       "    <button class=\"colab-df-convert\" onclick=\"convertToInteractive('df-85efe449-d22e-4dba-8214-3203e5fd714c')\"\n",
       "            title=\"Convert this dataframe to an interactive table.\"\n",
       "            style=\"display:none;\">\n",
       "\n",
       "  <svg xmlns=\"http://www.w3.org/2000/svg\" height=\"24px\" viewBox=\"0 -960 960 960\">\n",
       "    <path d=\"M120-120v-720h720v720H120Zm60-500h600v-160H180v160Zm220 220h160v-160H400v160Zm0 220h160v-160H400v160ZM180-400h160v-160H180v160Zm440 0h160v-160H620v160ZM180-180h160v-160H180v160Zm440 0h160v-160H620v160Z\"/>\n",
       "  </svg>\n",
       "    </button>\n",
       "\n",
       "  <style>\n",
       "    .colab-df-container {\n",
       "      display:flex;\n",
       "      gap: 12px;\n",
       "    }\n",
       "\n",
       "    .colab-df-convert {\n",
       "      background-color: #E8F0FE;\n",
       "      border: none;\n",
       "      border-radius: 50%;\n",
       "      cursor: pointer;\n",
       "      display: none;\n",
       "      fill: #1967D2;\n",
       "      height: 32px;\n",
       "      padding: 0 0 0 0;\n",
       "      width: 32px;\n",
       "    }\n",
       "\n",
       "    .colab-df-convert:hover {\n",
       "      background-color: #E2EBFA;\n",
       "      box-shadow: 0px 1px 2px rgba(60, 64, 67, 0.3), 0px 1px 3px 1px rgba(60, 64, 67, 0.15);\n",
       "      fill: #174EA6;\n",
       "    }\n",
       "\n",
       "    .colab-df-buttons div {\n",
       "      margin-bottom: 4px;\n",
       "    }\n",
       "\n",
       "    [theme=dark] .colab-df-convert {\n",
       "      background-color: #3B4455;\n",
       "      fill: #D2E3FC;\n",
       "    }\n",
       "\n",
       "    [theme=dark] .colab-df-convert:hover {\n",
       "      background-color: #434B5C;\n",
       "      box-shadow: 0px 1px 3px 1px rgba(0, 0, 0, 0.15);\n",
       "      filter: drop-shadow(0px 1px 2px rgba(0, 0, 0, 0.3));\n",
       "      fill: #FFFFFF;\n",
       "    }\n",
       "  </style>\n",
       "\n",
       "    <script>\n",
       "      const buttonEl =\n",
       "        document.querySelector('#df-85efe449-d22e-4dba-8214-3203e5fd714c button.colab-df-convert');\n",
       "      buttonEl.style.display =\n",
       "        google.colab.kernel.accessAllowed ? 'block' : 'none';\n",
       "\n",
       "      async function convertToInteractive(key) {\n",
       "        const element = document.querySelector('#df-85efe449-d22e-4dba-8214-3203e5fd714c');\n",
       "        const dataTable =\n",
       "          await google.colab.kernel.invokeFunction('convertToInteractive',\n",
       "                                                    [key], {});\n",
       "        if (!dataTable) return;\n",
       "\n",
       "        const docLinkHtml = 'Like what you see? Visit the ' +\n",
       "          '<a target=\"_blank\" href=https://colab.research.google.com/notebooks/data_table.ipynb>data table notebook</a>'\n",
       "          + ' to learn more about interactive tables.';\n",
       "        element.innerHTML = '';\n",
       "        dataTable['output_type'] = 'display_data';\n",
       "        await google.colab.output.renderOutput(dataTable, element);\n",
       "        const docLink = document.createElement('div');\n",
       "        docLink.innerHTML = docLinkHtml;\n",
       "        element.appendChild(docLink);\n",
       "      }\n",
       "    </script>\n",
       "  </div>\n",
       "\n",
       "\n",
       "    </div>\n",
       "  </div>\n"
      ],
      "text/plain": [
       "        srno                                     movie_name       genre  \\\n",
       "23366  23367   Il mistero di Lovecraft - Road to L. (2005)    thriller    \n",
       "\n",
       "                                                                                                                                                                                                                                                                                                                                                                                                                                                                                                                                                                                                                                                                                                                                                                                                                                                                                                                                                                                                                                                                                                                                                                                         processed_plot  \\\n",
       "23366  student folklore named andrea roberti hypothesizes possible link horror literature lovecraft dark folk tales delta mysterious remote part northern italy one directors film comes across manuscript montecatini italy may belonged american writer journal dated describes travels italy delta search inspiration form local folk stories filň tales small tough crew international filmmakers put together help david new york actor make documentary finding journal links lovecraft delta manuscript really belong lovecraft would extraordinary discovery soon begin however filmmakers find andrea roberti disappeared mysterious circumstances many years car found abandoned banks crew sets base town loreo referred simply manuscript author journal investigations atmosphere animosity foreboding rises soon discover strange disturbing things happening area events locals eager keep secret film road true account took place behind scenes day shoot reporting failures revelations experienced came resemble ever journey hell lovecraft really come contact something sinister andrea roberti stumble across something wasnt meant find documentary makers stepping far unknown   \n",
       "\n",
       "                                                                                                                                                                                                                                                                                                                                                                                                                                                                                                                                                                                                                                                                                                                                                                                                                                                                                                                                                                                                                                                                                                                                                                                                                                                input  \n",
       "23366   Il mistero di Lovecraft - Road to L. (2005)  student folklore named andrea roberti hypothesizes possible link horror literature lovecraft dark folk tales delta mysterious remote part northern italy one directors film comes across manuscript montecatini italy may belonged american writer journal dated describes travels italy delta search inspiration form local folk stories filň tales small tough crew international filmmakers put together help david new york actor make documentary finding journal links lovecraft delta manuscript really belong lovecraft would extraordinary discovery soon begin however filmmakers find andrea roberti disappeared mysterious circumstances many years car found abandoned banks crew sets base town loreo referred simply manuscript author journal investigations atmosphere animosity foreboding rises soon discover strange disturbing things happening area events locals eager keep secret film road true account took place behind scenes day shoot reporting failures revelations experienced came resemble ever journey hell lovecraft really come contact something sinister andrea roberti stumble across something wasnt meant find documentary makers stepping far unknown  "
      ]
     },
     "execution_count": 20,
     "metadata": {},
     "output_type": "execute_result"
    }
   ],
   "source": [
    "df_train.sample()"
   ]
  },
  {
   "cell_type": "markdown",
   "metadata": {
    "id": "cFztD5fFLJKn"
   },
   "source": [
    "All DATA"
   ]
  },
  {
   "cell_type": "code",
   "execution_count": 21,
   "metadata": {
    "id": "ZGVDU-IckrF6"
   },
   "outputs": [],
   "source": [
    "all_text= pd.concat([df_train['input'], df_test['input']])"
   ]
  },
  {
   "cell_type": "code",
   "execution_count": 22,
   "metadata": {
    "colab": {
     "base_uri": "https://localhost:8080/"
    },
    "id": "YEzoLJhdkvfN",
    "outputId": "9831f060-3504-42c2-b28e-ee3701e8f113"
   },
   "outputs": [
    {
     "data": {
      "text/plain": [
       "(108400,)"
      ]
     },
     "execution_count": 22,
     "metadata": {},
     "output_type": "execute_result"
    }
   ],
   "source": [
    "all_text.shape"
   ]
  },
  {
   "cell_type": "markdown",
   "metadata": {
    "id": "WxiW46o5LQ2H"
   },
   "source": [
    "TF IDF Vectorizer"
   ]
  },
  {
   "cell_type": "code",
   "execution_count": 23,
   "metadata": {
    "id": "hxK1Cl4idD5S"
   },
   "outputs": [],
   "source": [
    "tfidf = TfidfVectorizer(stop_words='english', max_features=35000)\n",
    "tfidf.fit(all_text)\n",
    "\n",
    "X_train_vec = tfidf.transform(df_train['input'])\n",
    "X_test_vec = tfidf.transform(df_test['input'])\n"
   ]
  },
  {
   "cell_type": "markdown",
   "metadata": {
    "id": "lkvOmsF7LV55"
   },
   "source": [
    "Encode The Lables"
   ]
  },
  {
   "cell_type": "code",
   "execution_count": 24,
   "metadata": {
    "id": "apMUjarKdME5"
   },
   "outputs": [],
   "source": [
    "encoder = LabelEncoder()\n",
    "y_train_enc = encoder.fit_transform(df_train['genre'])\n",
    "y_test_enc = encoder.transform(df_test['genre'])"
   ]
  },
  {
   "cell_type": "markdown",
   "metadata": {
    "id": "nt5hYEukLpcD"
   },
   "source": [
    "Randomizing the DATA"
   ]
  },
  {
   "cell_type": "code",
   "execution_count": 25,
   "metadata": {
    "id": "Bkku0GFodMPp"
   },
   "outputs": [],
   "source": [
    "sampler = RandomOverSampler(random_state=42)\n",
    "X_train_resampled, y_train_resampled = sampler.fit_resample(X_train_vec, y_train_enc)"
   ]
  },
  {
   "cell_type": "markdown",
   "metadata": {
    "id": "BOecO04sL-Ae"
   },
   "source": [
    "Modeling"
   ]
  },
  {
   "cell_type": "code",
   "execution_count": 29,
   "metadata": {
    "id": "Kss9DlKKlkWH"
   },
   "outputs": [],
   "source": [
    "mnb = MultinomialNB(alpha=0.5)\n",
    "gnb = GaussianNB()\n",
    "bnb = BernoulliNB()\n",
    "lgc = LogisticRegression(solver=\"sag\", C=0.5, max_iter=500, random_state=42, tol=0.1, n_jobs=4)\n",
    "svc = LinearSVC()"
   ]
  },
  {
   "cell_type": "code",
   "execution_count": 30,
   "metadata": {
    "colab": {
     "base_uri": "https://localhost:8080/"
    },
    "id": "40KimQzOlkYt",
    "outputId": "03640950-2bde-4806-eeb5-fe199f5568e4"
   },
   "outputs": [
    {
     "data": {
      "text/plain": [
       "0.5531918819188192"
      ]
     },
     "execution_count": 30,
     "metadata": {},
     "output_type": "execute_result"
    }
   ],
   "source": [
    "lgc.fit(X_train_resampled, y_train_resampled)\n",
    "lgc.score(X_test_vec, y_test_enc)"
   ]
  },
  {
   "cell_type": "code",
   "execution_count": 31,
   "metadata": {
    "colab": {
     "base_uri": "https://localhost:8080/"
    },
    "id": "s1m-eBg9lkcI",
    "outputId": "b261e347-1e63-4099-9737-d5c341562558"
   },
   "outputs": [
    {
     "name": "stderr",
     "output_type": "stream",
     "text": [
      "/usr/local/lib/python3.10/dist-packages/sklearn/svm/_classes.py:32: FutureWarning: The default value of `dual` will change from `True` to `'auto'` in 1.5. Set the value of `dual` explicitly to suppress the warning.\n",
      "  warnings.warn(\n"
     ]
    },
    {
     "data": {
      "text/plain": [
       "0.5397232472324723"
      ]
     },
     "execution_count": 31,
     "metadata": {},
     "output_type": "execute_result"
    }
   ],
   "source": [
    "svc.fit(X_train_resampled, y_train_resampled)\n",
    "svc.score(X_test_vec, y_test_enc)"
   ]
  },
  {
   "cell_type": "code",
   "execution_count": 32,
   "metadata": {
    "colab": {
     "base_uri": "https://localhost:8080/"
    },
    "id": "64Oc0nX18bKo",
    "outputId": "c60a6bca-4445-495c-eb52-c4f549d630e5"
   },
   "outputs": [
    {
     "data": {
      "text/plain": [
       "0.5532841328413284"
      ]
     },
     "execution_count": 32,
     "metadata": {},
     "output_type": "execute_result"
    }
   ],
   "source": [
    "bnb.fit(X_train_resampled, y_train_resampled)\n",
    "bnb.score(X_test_vec, y_test_enc)"
   ]
  },
  {
   "cell_type": "code",
   "execution_count": null,
   "metadata": {
    "colab": {
     "base_uri": "https://localhost:8080/"
    },
    "id": "eWl8rUjV8bNd",
    "outputId": "3658c92e-b464-4f7c-ff49-5b2b53aa3825"
   },
   "outputs": [
    {
     "data": {
      "text/plain": [
       "0.5388929889298893"
      ]
     },
     "execution_count": 34,
     "metadata": {},
     "output_type": "execute_result"
    }
   ],
   "source": [
    "mnb.fit(X_train_resampled, y_train_resampled)\n",
    "mnb.score(X_test_vec, y_test_enc)_"
   ]
  },
  {
   "cell_type": "code",
   "execution_count": 42,
   "metadata": {
    "colab": {
     "base_uri": "https://localhost:8080/"
    },
    "id": "NwPqLrbG8pIE",
    "outputId": "eec4b146-245d-40d8-e286-5127c8c79489"
   },
   "outputs": [
    {
     "name": "stdout",
     "output_type": "stream",
     "text": [
      "Logistic Regression: \n",
      "Train accuracy:  0.9530880524194756\n",
      "Test accuracy:  0.5549815498154982\n",
      "\n",
      "\n",
      "BernoulliNB:\n",
      "Train accuracy:  0.9267504224524282\n",
      "Test accuracy:  0.5532841328413284\n",
      "\n",
      "\n",
      "MultinomialNB:\n",
      "Train accuracy:  0.9392729736569279\n",
      "Test accuracy:  0.5388929889298893\n",
      "\n",
      "\n",
      "Support Vector:\n",
      "Train accuracy:  0.9930475622930255\n",
      "Test accuracy:  0.5397232472324723\n"
     ]
    }
   ],
   "source": [
    "ypred_test_lgc = lgc.predict(X_test_vec)\n",
    "ypred_train_lgc = lgc.predict(X_train_resampled)\n",
    "\n",
    "ypred_test_bnb = bnb.predict(X_test_vec)\n",
    "ypred_train_bnb = bnb.predict(X_train_resampled)\n",
    "\n",
    "ypred_test_mnb = mnb.predict(X_test_vec)\n",
    "ypred_train_mnb = mnb.predict(X_train_resampled)\n",
    "\n",
    "ypred_test_svc = svc.predict(X_test_vec)\n",
    "ypred_train_svc = svc.predict(X_train_resampled)\n",
    "\n",
    "print(\"Logistic Regression: \")\n",
    "\n",
    "print(\"Train accuracy: \", accuracy_score(y_train_resampled, ypred_train_lgc))\n",
    "print(\"Test accuracy: \", accuracy_score(y_test_enc, ypred_test_lgc))\n",
    "\n",
    "print(\"\\n\\nBernoulliNB:\")\n",
    "\n",
    "print(\"Train accuracy: \", accuracy_score(y_train_resampled, ypred_train_bnb))\n",
    "print(\"Test accuracy: \", accuracy_score(y_test_enc, ypred_test_bnb))\n",
    "\n",
    "print(\"\\n\\nMultinomialNB:\")\n",
    "\n",
    "print(\"Train accuracy: \", accuracy_score(y_train_resampled, ypred_train_mnb))\n",
    "print(\"Test accuracy: \", accuracy_score(y_test_enc, ypred_test_mnb))\n",
    "\n",
    "print(\"\\n\\nSupport Vector:\")\n",
    "\n",
    "print(\"Train accuracy: \", accuracy_score(y_train_resampled, ypred_train_svc))\n",
    "print(\"Test accuracy: \", accuracy_score(y_test_enc, ypred_test_svc))\n"
   ]
  }
 ],
 "metadata": {
  "colab": {
   "provenance": []
  },
  "kernelspec": {
   "display_name": "Python 3",
   "name": "python3"
  },
  "language_info": {
   "codemirror_mode": {
    "name": "ipython",
    "version": 3
   },
   "file_extension": ".py",
   "mimetype": "text/x-python",
   "name": "python",
   "nbconvert_exporter": "python",
   "pygments_lexer": "ipython3",
   "version": "3.13.0"
  }
 },
 "nbformat": 4,
 "nbformat_minor": 0
}
